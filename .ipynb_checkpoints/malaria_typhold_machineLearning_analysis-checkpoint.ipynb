{
 "cells": [
  {
   "cell_type": "markdown",
   "id": "9c899e36",
   "metadata": {},
   "source": [
    "# Machine Learning Analysis By Mr Abba Hamman"
   ]
  },
  {
   "cell_type": "markdown",
   "id": "2d32fb8f",
   "metadata": {},
   "source": [
    "#### We start By importing the requisite Libraries"
   ]
  },
  {
   "cell_type": "code",
   "execution_count": 1,
   "id": "0d760f4a",
   "metadata": {},
   "outputs": [],
   "source": [
    "import pandas as pd\n",
    "import numpy as np\n",
    "import matplotlib.pyplot as plt\n",
    "from sklearn.svm  import SVC\n",
    "from sklearn.metrics import f1_score,accuracy_score,confusion_matrix\n",
    "import seaborn as sns\n",
    "import os\n",
    "import tensorflow as tk\n",
    "from tensorflow import keras"
   ]
  },
  {
   "cell_type": "markdown",
   "id": "1c793d75",
   "metadata": {},
   "source": [
    "## Malaria Data Analysis"
   ]
  },
  {
   "cell_type": "markdown",
   "id": "865ac705",
   "metadata": {},
   "source": [
    "#### Read Dataset"
   ]
  },
  {
   "cell_type": "code",
   "execution_count": 2,
   "id": "828b68b1",
   "metadata": {},
   "outputs": [],
   "source": [
    "df = pd.read_csv('malariaTraining.csv')"
   ]
  },
  {
   "cell_type": "code",
   "execution_count": 3,
   "id": "3613afc2",
   "metadata": {},
   "outputs": [
    {
     "data": {
      "text/html": [
       "<div>\n",
       "<style scoped>\n",
       "    .dataframe tbody tr th:only-of-type {\n",
       "        vertical-align: middle;\n",
       "    }\n",
       "\n",
       "    .dataframe tbody tr th {\n",
       "        vertical-align: top;\n",
       "    }\n",
       "\n",
       "    .dataframe thead th {\n",
       "        text-align: right;\n",
       "    }\n",
       "</style>\n",
       "<table border=\"1\" class=\"dataframe\">\n",
       "  <thead>\n",
       "    <tr style=\"text-align: right;\">\n",
       "      <th></th>\n",
       "      <th>itching</th>\n",
       "      <th>skin_rash</th>\n",
       "      <th>nodal_skin_eruptions</th>\n",
       "      <th>continuous_sneezing</th>\n",
       "      <th>shivering</th>\n",
       "      <th>chills</th>\n",
       "      <th>joint_pain</th>\n",
       "      <th>stomach_pain</th>\n",
       "      <th>acidity</th>\n",
       "      <th>ulcers_on_tongue</th>\n",
       "      <th>...</th>\n",
       "      <th>blackheads</th>\n",
       "      <th>scurring</th>\n",
       "      <th>skin_peeling</th>\n",
       "      <th>silver_like_dusting</th>\n",
       "      <th>small_dents_in_nails</th>\n",
       "      <th>inflammatory_nails</th>\n",
       "      <th>blister</th>\n",
       "      <th>red_sore_around_nose</th>\n",
       "      <th>yellow_crust_ooze</th>\n",
       "      <th>prognosis</th>\n",
       "    </tr>\n",
       "  </thead>\n",
       "  <tbody>\n",
       "    <tr>\n",
       "      <th>0</th>\n",
       "      <td>0</td>\n",
       "      <td>0</td>\n",
       "      <td>0</td>\n",
       "      <td>0</td>\n",
       "      <td>0</td>\n",
       "      <td>1</td>\n",
       "      <td>0</td>\n",
       "      <td>0</td>\n",
       "      <td>0</td>\n",
       "      <td>0</td>\n",
       "      <td>...</td>\n",
       "      <td>0</td>\n",
       "      <td>0</td>\n",
       "      <td>0</td>\n",
       "      <td>0</td>\n",
       "      <td>0</td>\n",
       "      <td>0</td>\n",
       "      <td>0</td>\n",
       "      <td>0</td>\n",
       "      <td>0</td>\n",
       "      <td>Malaria</td>\n",
       "    </tr>\n",
       "    <tr>\n",
       "      <th>1</th>\n",
       "      <td>0</td>\n",
       "      <td>0</td>\n",
       "      <td>0</td>\n",
       "      <td>0</td>\n",
       "      <td>0</td>\n",
       "      <td>1</td>\n",
       "      <td>0</td>\n",
       "      <td>0</td>\n",
       "      <td>0</td>\n",
       "      <td>0</td>\n",
       "      <td>...</td>\n",
       "      <td>0</td>\n",
       "      <td>0</td>\n",
       "      <td>0</td>\n",
       "      <td>0</td>\n",
       "      <td>0</td>\n",
       "      <td>0</td>\n",
       "      <td>0</td>\n",
       "      <td>0</td>\n",
       "      <td>0</td>\n",
       "      <td>Malaria</td>\n",
       "    </tr>\n",
       "    <tr>\n",
       "      <th>2</th>\n",
       "      <td>0</td>\n",
       "      <td>0</td>\n",
       "      <td>0</td>\n",
       "      <td>0</td>\n",
       "      <td>0</td>\n",
       "      <td>1</td>\n",
       "      <td>0</td>\n",
       "      <td>0</td>\n",
       "      <td>0</td>\n",
       "      <td>0</td>\n",
       "      <td>...</td>\n",
       "      <td>0</td>\n",
       "      <td>0</td>\n",
       "      <td>0</td>\n",
       "      <td>0</td>\n",
       "      <td>0</td>\n",
       "      <td>0</td>\n",
       "      <td>0</td>\n",
       "      <td>0</td>\n",
       "      <td>0</td>\n",
       "      <td>Malaria</td>\n",
       "    </tr>\n",
       "    <tr>\n",
       "      <th>3</th>\n",
       "      <td>0</td>\n",
       "      <td>0</td>\n",
       "      <td>0</td>\n",
       "      <td>0</td>\n",
       "      <td>0</td>\n",
       "      <td>0</td>\n",
       "      <td>0</td>\n",
       "      <td>0</td>\n",
       "      <td>0</td>\n",
       "      <td>0</td>\n",
       "      <td>...</td>\n",
       "      <td>0</td>\n",
       "      <td>0</td>\n",
       "      <td>0</td>\n",
       "      <td>0</td>\n",
       "      <td>0</td>\n",
       "      <td>0</td>\n",
       "      <td>0</td>\n",
       "      <td>0</td>\n",
       "      <td>0</td>\n",
       "      <td>Malaria</td>\n",
       "    </tr>\n",
       "    <tr>\n",
       "      <th>4</th>\n",
       "      <td>0</td>\n",
       "      <td>0</td>\n",
       "      <td>0</td>\n",
       "      <td>0</td>\n",
       "      <td>0</td>\n",
       "      <td>1</td>\n",
       "      <td>0</td>\n",
       "      <td>0</td>\n",
       "      <td>0</td>\n",
       "      <td>0</td>\n",
       "      <td>...</td>\n",
       "      <td>0</td>\n",
       "      <td>0</td>\n",
       "      <td>0</td>\n",
       "      <td>0</td>\n",
       "      <td>0</td>\n",
       "      <td>0</td>\n",
       "      <td>0</td>\n",
       "      <td>0</td>\n",
       "      <td>0</td>\n",
       "      <td>Malaria</td>\n",
       "    </tr>\n",
       "  </tbody>\n",
       "</table>\n",
       "<p>5 rows × 133 columns</p>\n",
       "</div>"
      ],
      "text/plain": [
       "   itching  skin_rash  nodal_skin_eruptions  continuous_sneezing  shivering  \\\n",
       "0        0          0                     0                    0          0   \n",
       "1        0          0                     0                    0          0   \n",
       "2        0          0                     0                    0          0   \n",
       "3        0          0                     0                    0          0   \n",
       "4        0          0                     0                    0          0   \n",
       "\n",
       "   chills  joint_pain  stomach_pain  acidity  ulcers_on_tongue  ...  \\\n",
       "0       1           0             0        0                 0  ...   \n",
       "1       1           0             0        0                 0  ...   \n",
       "2       1           0             0        0                 0  ...   \n",
       "3       0           0             0        0                 0  ...   \n",
       "4       1           0             0        0                 0  ...   \n",
       "\n",
       "   blackheads  scurring  skin_peeling  silver_like_dusting  \\\n",
       "0           0         0             0                    0   \n",
       "1           0         0             0                    0   \n",
       "2           0         0             0                    0   \n",
       "3           0         0             0                    0   \n",
       "4           0         0             0                    0   \n",
       "\n",
       "   small_dents_in_nails  inflammatory_nails  blister  red_sore_around_nose  \\\n",
       "0                     0                   0        0                     0   \n",
       "1                     0                   0        0                     0   \n",
       "2                     0                   0        0                     0   \n",
       "3                     0                   0        0                     0   \n",
       "4                     0                   0        0                     0   \n",
       "\n",
       "   yellow_crust_ooze  prognosis  \n",
       "0                  0    Malaria  \n",
       "1                  0    Malaria  \n",
       "2                  0    Malaria  \n",
       "3                  0    Malaria  \n",
       "4                  0    Malaria  \n",
       "\n",
       "[5 rows x 133 columns]"
      ]
     },
     "execution_count": 3,
     "metadata": {},
     "output_type": "execute_result"
    }
   ],
   "source": [
    "df.head()"
   ]
  },
  {
   "cell_type": "markdown",
   "id": "1191bb2b",
   "metadata": {},
   "source": [
    "#### Dataset Characteristics"
   ]
  },
  {
   "cell_type": "code",
   "execution_count": 4,
   "id": "86adcc98",
   "metadata": {},
   "outputs": [
    {
     "data": {
      "text/html": [
       "<div>\n",
       "<style scoped>\n",
       "    .dataframe tbody tr th:only-of-type {\n",
       "        vertical-align: middle;\n",
       "    }\n",
       "\n",
       "    .dataframe tbody tr th {\n",
       "        vertical-align: top;\n",
       "    }\n",
       "\n",
       "    .dataframe thead th {\n",
       "        text-align: right;\n",
       "    }\n",
       "</style>\n",
       "<table border=\"1\" class=\"dataframe\">\n",
       "  <thead>\n",
       "    <tr style=\"text-align: right;\">\n",
       "      <th></th>\n",
       "      <th>itching</th>\n",
       "      <th>skin_rash</th>\n",
       "      <th>nodal_skin_eruptions</th>\n",
       "      <th>continuous_sneezing</th>\n",
       "      <th>shivering</th>\n",
       "      <th>chills</th>\n",
       "      <th>joint_pain</th>\n",
       "      <th>stomach_pain</th>\n",
       "      <th>acidity</th>\n",
       "      <th>ulcers_on_tongue</th>\n",
       "      <th>...</th>\n",
       "      <th>pus_filled_pimples</th>\n",
       "      <th>blackheads</th>\n",
       "      <th>scurring</th>\n",
       "      <th>skin_peeling</th>\n",
       "      <th>silver_like_dusting</th>\n",
       "      <th>small_dents_in_nails</th>\n",
       "      <th>inflammatory_nails</th>\n",
       "      <th>blister</th>\n",
       "      <th>red_sore_around_nose</th>\n",
       "      <th>yellow_crust_ooze</th>\n",
       "    </tr>\n",
       "  </thead>\n",
       "  <tbody>\n",
       "    <tr>\n",
       "      <th>count</th>\n",
       "      <td>120.0</td>\n",
       "      <td>120.0</td>\n",
       "      <td>120.0</td>\n",
       "      <td>120.0</td>\n",
       "      <td>120.0</td>\n",
       "      <td>120.000000</td>\n",
       "      <td>120.0</td>\n",
       "      <td>120.0</td>\n",
       "      <td>120.0</td>\n",
       "      <td>120.0</td>\n",
       "      <td>...</td>\n",
       "      <td>120.0</td>\n",
       "      <td>120.0</td>\n",
       "      <td>120.0</td>\n",
       "      <td>120.0</td>\n",
       "      <td>120.0</td>\n",
       "      <td>120.0</td>\n",
       "      <td>120.0</td>\n",
       "      <td>120.0</td>\n",
       "      <td>120.0</td>\n",
       "      <td>120.0</td>\n",
       "    </tr>\n",
       "    <tr>\n",
       "      <th>mean</th>\n",
       "      <td>0.0</td>\n",
       "      <td>0.0</td>\n",
       "      <td>0.0</td>\n",
       "      <td>0.0</td>\n",
       "      <td>0.0</td>\n",
       "      <td>0.950000</td>\n",
       "      <td>0.0</td>\n",
       "      <td>0.0</td>\n",
       "      <td>0.0</td>\n",
       "      <td>0.0</td>\n",
       "      <td>...</td>\n",
       "      <td>0.0</td>\n",
       "      <td>0.0</td>\n",
       "      <td>0.0</td>\n",
       "      <td>0.0</td>\n",
       "      <td>0.0</td>\n",
       "      <td>0.0</td>\n",
       "      <td>0.0</td>\n",
       "      <td>0.0</td>\n",
       "      <td>0.0</td>\n",
       "      <td>0.0</td>\n",
       "    </tr>\n",
       "    <tr>\n",
       "      <th>std</th>\n",
       "      <td>0.0</td>\n",
       "      <td>0.0</td>\n",
       "      <td>0.0</td>\n",
       "      <td>0.0</td>\n",
       "      <td>0.0</td>\n",
       "      <td>0.218859</td>\n",
       "      <td>0.0</td>\n",
       "      <td>0.0</td>\n",
       "      <td>0.0</td>\n",
       "      <td>0.0</td>\n",
       "      <td>...</td>\n",
       "      <td>0.0</td>\n",
       "      <td>0.0</td>\n",
       "      <td>0.0</td>\n",
       "      <td>0.0</td>\n",
       "      <td>0.0</td>\n",
       "      <td>0.0</td>\n",
       "      <td>0.0</td>\n",
       "      <td>0.0</td>\n",
       "      <td>0.0</td>\n",
       "      <td>0.0</td>\n",
       "    </tr>\n",
       "    <tr>\n",
       "      <th>min</th>\n",
       "      <td>0.0</td>\n",
       "      <td>0.0</td>\n",
       "      <td>0.0</td>\n",
       "      <td>0.0</td>\n",
       "      <td>0.0</td>\n",
       "      <td>0.000000</td>\n",
       "      <td>0.0</td>\n",
       "      <td>0.0</td>\n",
       "      <td>0.0</td>\n",
       "      <td>0.0</td>\n",
       "      <td>...</td>\n",
       "      <td>0.0</td>\n",
       "      <td>0.0</td>\n",
       "      <td>0.0</td>\n",
       "      <td>0.0</td>\n",
       "      <td>0.0</td>\n",
       "      <td>0.0</td>\n",
       "      <td>0.0</td>\n",
       "      <td>0.0</td>\n",
       "      <td>0.0</td>\n",
       "      <td>0.0</td>\n",
       "    </tr>\n",
       "    <tr>\n",
       "      <th>25%</th>\n",
       "      <td>0.0</td>\n",
       "      <td>0.0</td>\n",
       "      <td>0.0</td>\n",
       "      <td>0.0</td>\n",
       "      <td>0.0</td>\n",
       "      <td>1.000000</td>\n",
       "      <td>0.0</td>\n",
       "      <td>0.0</td>\n",
       "      <td>0.0</td>\n",
       "      <td>0.0</td>\n",
       "      <td>...</td>\n",
       "      <td>0.0</td>\n",
       "      <td>0.0</td>\n",
       "      <td>0.0</td>\n",
       "      <td>0.0</td>\n",
       "      <td>0.0</td>\n",
       "      <td>0.0</td>\n",
       "      <td>0.0</td>\n",
       "      <td>0.0</td>\n",
       "      <td>0.0</td>\n",
       "      <td>0.0</td>\n",
       "    </tr>\n",
       "    <tr>\n",
       "      <th>50%</th>\n",
       "      <td>0.0</td>\n",
       "      <td>0.0</td>\n",
       "      <td>0.0</td>\n",
       "      <td>0.0</td>\n",
       "      <td>0.0</td>\n",
       "      <td>1.000000</td>\n",
       "      <td>0.0</td>\n",
       "      <td>0.0</td>\n",
       "      <td>0.0</td>\n",
       "      <td>0.0</td>\n",
       "      <td>...</td>\n",
       "      <td>0.0</td>\n",
       "      <td>0.0</td>\n",
       "      <td>0.0</td>\n",
       "      <td>0.0</td>\n",
       "      <td>0.0</td>\n",
       "      <td>0.0</td>\n",
       "      <td>0.0</td>\n",
       "      <td>0.0</td>\n",
       "      <td>0.0</td>\n",
       "      <td>0.0</td>\n",
       "    </tr>\n",
       "    <tr>\n",
       "      <th>75%</th>\n",
       "      <td>0.0</td>\n",
       "      <td>0.0</td>\n",
       "      <td>0.0</td>\n",
       "      <td>0.0</td>\n",
       "      <td>0.0</td>\n",
       "      <td>1.000000</td>\n",
       "      <td>0.0</td>\n",
       "      <td>0.0</td>\n",
       "      <td>0.0</td>\n",
       "      <td>0.0</td>\n",
       "      <td>...</td>\n",
       "      <td>0.0</td>\n",
       "      <td>0.0</td>\n",
       "      <td>0.0</td>\n",
       "      <td>0.0</td>\n",
       "      <td>0.0</td>\n",
       "      <td>0.0</td>\n",
       "      <td>0.0</td>\n",
       "      <td>0.0</td>\n",
       "      <td>0.0</td>\n",
       "      <td>0.0</td>\n",
       "    </tr>\n",
       "    <tr>\n",
       "      <th>max</th>\n",
       "      <td>0.0</td>\n",
       "      <td>0.0</td>\n",
       "      <td>0.0</td>\n",
       "      <td>0.0</td>\n",
       "      <td>0.0</td>\n",
       "      <td>1.000000</td>\n",
       "      <td>0.0</td>\n",
       "      <td>0.0</td>\n",
       "      <td>0.0</td>\n",
       "      <td>0.0</td>\n",
       "      <td>...</td>\n",
       "      <td>0.0</td>\n",
       "      <td>0.0</td>\n",
       "      <td>0.0</td>\n",
       "      <td>0.0</td>\n",
       "      <td>0.0</td>\n",
       "      <td>0.0</td>\n",
       "      <td>0.0</td>\n",
       "      <td>0.0</td>\n",
       "      <td>0.0</td>\n",
       "      <td>0.0</td>\n",
       "    </tr>\n",
       "  </tbody>\n",
       "</table>\n",
       "<p>8 rows × 132 columns</p>\n",
       "</div>"
      ],
      "text/plain": [
       "       itching  skin_rash  nodal_skin_eruptions  continuous_sneezing  \\\n",
       "count    120.0      120.0                 120.0                120.0   \n",
       "mean       0.0        0.0                   0.0                  0.0   \n",
       "std        0.0        0.0                   0.0                  0.0   \n",
       "min        0.0        0.0                   0.0                  0.0   \n",
       "25%        0.0        0.0                   0.0                  0.0   \n",
       "50%        0.0        0.0                   0.0                  0.0   \n",
       "75%        0.0        0.0                   0.0                  0.0   \n",
       "max        0.0        0.0                   0.0                  0.0   \n",
       "\n",
       "       shivering      chills  joint_pain  stomach_pain  acidity  \\\n",
       "count      120.0  120.000000       120.0         120.0    120.0   \n",
       "mean         0.0    0.950000         0.0           0.0      0.0   \n",
       "std          0.0    0.218859         0.0           0.0      0.0   \n",
       "min          0.0    0.000000         0.0           0.0      0.0   \n",
       "25%          0.0    1.000000         0.0           0.0      0.0   \n",
       "50%          0.0    1.000000         0.0           0.0      0.0   \n",
       "75%          0.0    1.000000         0.0           0.0      0.0   \n",
       "max          0.0    1.000000         0.0           0.0      0.0   \n",
       "\n",
       "       ulcers_on_tongue  ...  pus_filled_pimples  blackheads  scurring  \\\n",
       "count             120.0  ...               120.0       120.0     120.0   \n",
       "mean                0.0  ...                 0.0         0.0       0.0   \n",
       "std                 0.0  ...                 0.0         0.0       0.0   \n",
       "min                 0.0  ...                 0.0         0.0       0.0   \n",
       "25%                 0.0  ...                 0.0         0.0       0.0   \n",
       "50%                 0.0  ...                 0.0         0.0       0.0   \n",
       "75%                 0.0  ...                 0.0         0.0       0.0   \n",
       "max                 0.0  ...                 0.0         0.0       0.0   \n",
       "\n",
       "       skin_peeling  silver_like_dusting  small_dents_in_nails  \\\n",
       "count         120.0                120.0                 120.0   \n",
       "mean            0.0                  0.0                   0.0   \n",
       "std             0.0                  0.0                   0.0   \n",
       "min             0.0                  0.0                   0.0   \n",
       "25%             0.0                  0.0                   0.0   \n",
       "50%             0.0                  0.0                   0.0   \n",
       "75%             0.0                  0.0                   0.0   \n",
       "max             0.0                  0.0                   0.0   \n",
       "\n",
       "       inflammatory_nails  blister  red_sore_around_nose  yellow_crust_ooze  \n",
       "count               120.0    120.0                 120.0              120.0  \n",
       "mean                  0.0      0.0                   0.0                0.0  \n",
       "std                   0.0      0.0                   0.0                0.0  \n",
       "min                   0.0      0.0                   0.0                0.0  \n",
       "25%                   0.0      0.0                   0.0                0.0  \n",
       "50%                   0.0      0.0                   0.0                0.0  \n",
       "75%                   0.0      0.0                   0.0                0.0  \n",
       "max                   0.0      0.0                   0.0                0.0  \n",
       "\n",
       "[8 rows x 132 columns]"
      ]
     },
     "execution_count": 4,
     "metadata": {},
     "output_type": "execute_result"
    }
   ],
   "source": [
    "df.describe()"
   ]
  },
  {
   "cell_type": "markdown",
   "id": "22cb8d01",
   "metadata": {},
   "source": [
    "Check for null and NaN values"
   ]
  },
  {
   "cell_type": "code",
   "execution_count": 5,
   "id": "2ad37bbe",
   "metadata": {},
   "outputs": [
    {
     "data": {
      "text/plain": [
       "itching                 0\n",
       "skin_rash               0\n",
       "nodal_skin_eruptions    0\n",
       "continuous_sneezing     0\n",
       "shivering               0\n",
       "                       ..\n",
       "inflammatory_nails      0\n",
       "blister                 0\n",
       "red_sore_around_nose    0\n",
       "yellow_crust_ooze       0\n",
       "prognosis               0\n",
       "Length: 133, dtype: int64"
      ]
     },
     "execution_count": 5,
     "metadata": {},
     "output_type": "execute_result"
    }
   ],
   "source": [
    "df.isna().sum()"
   ]
  },
  {
   "cell_type": "markdown",
   "id": "6bc34ab3",
   "metadata": {},
   "source": [
    "Symptom severity rank"
   ]
  },
  {
   "cell_type": "code",
   "execution_count": 6,
   "id": "a0e11d58",
   "metadata": {},
   "outputs": [],
   "source": [
    "df1 = pd.read_csv('Symptom-severity.csv')"
   ]
  },
  {
   "cell_type": "code",
   "execution_count": 7,
   "id": "f7052fd1",
   "metadata": {},
   "outputs": [
    {
     "data": {
      "text/html": [
       "<div>\n",
       "<style scoped>\n",
       "    .dataframe tbody tr th:only-of-type {\n",
       "        vertical-align: middle;\n",
       "    }\n",
       "\n",
       "    .dataframe tbody tr th {\n",
       "        vertical-align: top;\n",
       "    }\n",
       "\n",
       "    .dataframe thead th {\n",
       "        text-align: right;\n",
       "    }\n",
       "</style>\n",
       "<table border=\"1\" class=\"dataframe\">\n",
       "  <thead>\n",
       "    <tr style=\"text-align: right;\">\n",
       "      <th></th>\n",
       "      <th>Symptom</th>\n",
       "      <th>weight</th>\n",
       "    </tr>\n",
       "  </thead>\n",
       "  <tbody>\n",
       "    <tr>\n",
       "      <th>0</th>\n",
       "      <td>itching</td>\n",
       "      <td>1</td>\n",
       "    </tr>\n",
       "    <tr>\n",
       "      <th>1</th>\n",
       "      <td>skin_rash</td>\n",
       "      <td>3</td>\n",
       "    </tr>\n",
       "    <tr>\n",
       "      <th>2</th>\n",
       "      <td>nodal_skin_eruptions</td>\n",
       "      <td>4</td>\n",
       "    </tr>\n",
       "    <tr>\n",
       "      <th>3</th>\n",
       "      <td>continuous_sneezing</td>\n",
       "      <td>4</td>\n",
       "    </tr>\n",
       "    <tr>\n",
       "      <th>4</th>\n",
       "      <td>shivering</td>\n",
       "      <td>5</td>\n",
       "    </tr>\n",
       "  </tbody>\n",
       "</table>\n",
       "</div>"
      ],
      "text/plain": [
       "                Symptom  weight\n",
       "0               itching       1\n",
       "1             skin_rash       3\n",
       "2  nodal_skin_eruptions       4\n",
       "3   continuous_sneezing       4\n",
       "4             shivering       5"
      ]
     },
     "execution_count": 7,
     "metadata": {},
     "output_type": "execute_result"
    }
   ],
   "source": [
    "df1.head()"
   ]
  },
  {
   "cell_type": "markdown",
   "id": "dcbffc34",
   "metadata": {},
   "source": [
    "Get overall list of symptoms"
   ]
  },
  {
   "cell_type": "code",
   "execution_count": 8,
   "id": "4fb5011a",
   "metadata": {},
   "outputs": [
    {
     "data": {
      "text/plain": [
       "array(['itching', 'skin_rash', 'nodal_skin_eruptions',\n",
       "       'continuous_sneezing', 'shivering', 'chills', 'joint_pain',\n",
       "       'stomach_pain', 'acidity', 'ulcers_on_tongue', 'muscle_wasting',\n",
       "       'vomiting', 'burning_micturition', 'spotting_urination', 'fatigue',\n",
       "       'weight_gain', 'anxiety', 'cold_hands_and_feets', 'mood_swings',\n",
       "       'weight_loss', 'restlessness', 'lethargy', 'patches_in_throat',\n",
       "       'irregular_sugar_level', 'cough', 'high_fever', 'sunken_eyes',\n",
       "       'breathlessness', 'sweating', 'dehydration', 'indigestion',\n",
       "       'headache', 'yellowish_skin', 'dark_urine', 'nausea',\n",
       "       'loss_of_appetite', 'pain_behind_the_eyes', 'back_pain',\n",
       "       'constipation', 'abdominal_pain', 'diarrhoea', 'mild_fever',\n",
       "       'yellow_urine', 'yellowing_of_eyes', 'acute_liver_failure',\n",
       "       'fluid_overload', 'swelling_of_stomach', 'swelled_lymph_nodes',\n",
       "       'malaise', 'blurred_and_distorted_vision', 'phlegm',\n",
       "       'throat_irritation', 'redness_of_eyes', 'sinus_pressure',\n",
       "       'runny_nose', 'congestion', 'chest_pain', 'weakness_in_limbs',\n",
       "       'fast_heart_rate', 'pain_during_bowel_movements',\n",
       "       'pain_in_anal_region', 'bloody_stool', 'irritation_in_anus',\n",
       "       'neck_pain', 'dizziness', 'cramps', 'bruising', 'obesity',\n",
       "       'swollen_legs', 'swollen_blood_vessels', 'puffy_face_and_eyes',\n",
       "       'enlarged_thyroid', 'brittle_nails', 'swollen_extremeties',\n",
       "       'excessive_hunger', 'extra_marital_contacts',\n",
       "       'drying_and_tingling_lips', 'slurred_speech', 'knee_pain',\n",
       "       'hip_joint_pain', 'muscle_weakness', 'stiff_neck',\n",
       "       'swelling_joints', 'movement_stiffness', 'spinning_movements',\n",
       "       'loss_of_balance', 'unsteadiness', 'weakness_of_one_body_side',\n",
       "       'loss_of_smell', 'bladder_discomfort', 'foul_smell_ofurine',\n",
       "       'continuous_feel_of_urine', 'passage_of_gases', 'internal_itching',\n",
       "       'toxic_look_(typhos)', 'depression', 'irritability', 'muscle_pain',\n",
       "       'altered_sensorium', 'red_spots_over_body', 'belly_pain',\n",
       "       'abnormal_menstruation', 'dischromic_patches',\n",
       "       'watering_from_eyes', 'increased_appetite', 'polyuria',\n",
       "       'family_history', 'mucoid_sputum', 'rusty_sputum',\n",
       "       'lack_of_concentration', 'visual_disturbances',\n",
       "       'receiving_blood_transfusion', 'receiving_unsterile_injections',\n",
       "       'coma', 'stomach_bleeding', 'distention_of_abdomen',\n",
       "       'history_of_alcohol_consumption', 'blood_in_sputum',\n",
       "       'prominent_veins_on_calf', 'palpitations', 'painful_walking',\n",
       "       'pus_filled_pimples', 'blackheads', 'scurring', 'skin_peeling',\n",
       "       'silver_like_dusting', 'small_dents_in_nails',\n",
       "       'inflammatory_nails', 'blister', 'red_sore_around_nose',\n",
       "       'yellow_crust_ooze', 'prognosis'], dtype=object)"
      ]
     },
     "execution_count": 8,
     "metadata": {},
     "output_type": "execute_result"
    }
   ],
   "source": [
    "df1['Symptom'].unique()"
   ]
  },
  {
   "cell_type": "markdown",
   "id": "cb371689",
   "metadata": {},
   "source": [
    "#### Select the features as symptoms column and label as Prognosis column\n",
    "#### Also in this dataset every prognoses that is not malaria is assigned the value of 0. while every prognosis that is malaria is \n",
    "#### assigned the value 1"
   ]
  },
  {
   "cell_type": "code",
   "execution_count": 44,
   "id": "19c4f1cb",
   "metadata": {},
   "outputs": [],
   "source": [
    "da = pd.read_csv('dataSet1.csv')\n",
    "data = da.iloc[:,1:].values\n",
    "labels = da['prognosis'].values"
   ]
  },
  {
   "cell_type": "markdown",
   "id": "2aa9a8a5",
   "metadata": {},
   "source": []
  },
  {
   "cell_type": "code",
   "execution_count": 45,
   "id": "1a56c54f",
   "metadata": {
    "scrolled": true
   },
   "outputs": [
    {
     "name": "stdout",
     "output_type": "stream",
     "text": [
      "[1 1 1 1 1 1 1 1 1 1 1 1 1 1 1 1 1 1 1 1 1 1 1 0 0 0 0 0 0 0 0 0 0 0 0 0 0\n",
      " 0 0 0 0 0 0 0 0 0 0 0 0 0 0 0 0 0 0 0 0 0 0 0 0 0 0 0 0 0 0 0 0 0 0 0 0 0\n",
      " 0 0 0 0 0 0 0 0 0 0 0 0 0 0 0 0 0 0 0 0 0 0 0 0 0 0 0 0 0 0 0 0 0 0 0 0 0\n",
      " 0 0 0 0 0 0 0 0 0 0 0 0 0 0 0 0 0 0 0 0 0 0 0 0 0 0 0 0 0 0 0 0 0 0 0 0 0\n",
      " 0 0 1 1 1 1 1 1 1 1 1 1 0 0 0 0 0 0 0 0 0 0 0 0 0 0 0 0 0 0 0 0 0 0 0 0 0\n",
      " 0 0 0 0 0 0 0 0 0 0 0 0 0 0 0 0 0 0 0 0 0 0 0 0 0 0 0 0 0 0 0 0 0 0 0 0 0\n",
      " 0 0 0 0 0 0 0 0 0 0 0 0 0 0 0 0 0 0 0 0 0 0 0 0 0 0 0 0 0 0 0 0 0 0 0 0 0\n",
      " 0 0 0 0 0 0 0 0 0 0 0 0 0 0 0 0 0 0 0 0 0 0 0 0 0 0 0 0 0 0 0 0 0 0 0 0 0\n",
      " 0 0 0 0 0 0 0 0 0 0 0 0 0 0 0 0 0 0 0 0 0 0 0 0 0 0 0 0 0 0 0 0 0 0 0 0 0\n",
      " 0 0 0 0 0 0 0 0 0 0 0 0 0 0 0 0 0 0 0 0 0 0 0 0 0 0 0 0 0 0 0 0 0 0 0 0 0\n",
      " 0 0 0 0 0 0 0 0 0 0 0 0 0 0 0 0 0 0 0 0 0 0 0 0 0 0 0 0 0 0 0 0 0 0 0 0 0\n",
      " 0 0 0 0 0 0 0 0 0 0 0 0 0 0 0 0 0 0 0 0 0 0 0 0 0 0 0 0 0 0 0 0 0 0 0 0 0\n",
      " 0 0 0 0 0 0 0 0 0 0 0 0 0 0 0 0 0 0 0 0 0 0 0 0 0 0 0 0 0 0 0 0 0 0 0 0 0\n",
      " 0 0 0 0 0 0 0 0 0 0 0 0 0 0 0 0 0 0 0 0 0 0 0 0 0 0 0 0 0 0 0 0 0 0 0 0 0\n",
      " 0 0 0 0 0 0 0 0 0 0 0 0 0 0 0 0 0 0 0 0 0 0 0 0 0 0 0 0 0 0 0 0 0 0 0 0 0\n",
      " 0 0 0 0 0 1 1 1 1 1 1 1 1 1 1 0 0 0 0 0 0 0 0 0 0 0 0 0 0 0 0 0 0 0 0 0 0\n",
      " 0 0 0 0 0 0 0 0 0 0 0 0 0 0 0 0 0 0 0 0 0 0 0 0 0 0 0 0 0 0 0 0 0 0 0 0 0\n",
      " 0 0 0 0 0 0 0 0 0 0 0 0 0 0 0 0 0 0 0 0 0 0 0 0 0 0 0 0 0 0 0 0 0 0 0 0 0\n",
      " 0 0 0 0 0 0 0 0 0 0 0 0 0 0 0 0 0 0 0 0 0 0 0 0 0 0 0 0 0 0 0 0 0 0 0 0 0\n",
      " 0 0 0 0 0 0 0 0 0 0 0 0 0 0 0 0 0 0 0 0 0 0 0 0 0 0 0 0 0 0 0 0 0 0 0 0 0\n",
      " 0 0 0 0 0 0 0 0 0 0 0 0 0 0 0 0 0 0 0 0 0 0 0 0 0 0 0 0 0 0 0 0 0 0 0 0 0\n",
      " 0 0 0 0 0 0 0 0 0 0 0 0 0 0 0 0 0 0 0 0 0 0 0 0 0 0 0 0 0 0 0 0 0 0 0 0 0\n",
      " 1 1 1 1 1 1 1 1 1 1 1 0 0 0 0 0 0 0 0 0 0 0 0 0 0 0 0 0 0 0 0 0 0 0 0 0 0\n",
      " 0 0 0 0 0 0 0 0 0 0 0 0 0 0 0 0 0 0 0 0 0 0 0 0 0 0 0 0 0 0 0 0 0 0 0 0 0\n",
      " 0 0 0 0 0 0 0 0 0 0 0 0 0 0 0 0 0 0 0 0 0 0 0 0 0 0 0 0 0 0 0 0 0 0 0 0 0\n",
      " 0 0 0 0 0 0 0 0 0 0 0 0 0 0 0 0 0 0 0 0 0 0 0 0 0 0 0 0 0 0 0 0 0 0 0 0 0\n",
      " 0 0 0 0 0 0 0 0 1 1 1 1 1 1 1 1 1 1 0 0 0 0 0 0 0 0 0 0 0 0 0 0 0 0 0 0 0\n",
      " 0]\n"
     ]
    }
   ],
   "source": [
    "print(labels[:1000])"
   ]
  },
  {
   "cell_type": "code",
   "execution_count": 46,
   "id": "8717c405",
   "metadata": {},
   "outputs": [],
   "source": [
    "from sklearn.model_selection import train_test_split"
   ]
  },
  {
   "cell_type": "markdown",
   "id": "29a3c1f4",
   "metadata": {},
   "source": [
    "#### Split the data, labels with shuffle"
   ]
  },
  {
   "cell_type": "code",
   "execution_count": 47,
   "id": "113e0bac",
   "metadata": {},
   "outputs": [],
   "source": [
    "x_train, x_test, y_train, y_test = train_test_split(data, labels, shuffle=True, train_size = 0.85)"
   ]
  },
  {
   "cell_type": "code",
   "execution_count": 48,
   "id": "33b34433",
   "metadata": {},
   "outputs": [
    {
     "name": "stdout",
     "output_type": "stream",
     "text": [
      "(4182, 132) (738, 132) (4182,) (738,)\n"
     ]
    }
   ],
   "source": [
    "print(x_train.shape, x_test.shape, y_train.shape, y_test.shape)"
   ]
  },
  {
   "cell_type": "markdown",
   "id": "2ecd8a5f",
   "metadata": {},
   "source": [
    "#### Initialize and train a Support vector classifier"
   ]
  },
  {
   "cell_type": "code",
   "execution_count": 49,
   "id": "2725f94d",
   "metadata": {},
   "outputs": [],
   "source": [
    "svc_model = SVC()"
   ]
  },
  {
   "cell_type": "code",
   "execution_count": 50,
   "id": "ad549999",
   "metadata": {},
   "outputs": [],
   "source": [
    "x_train = x_train/255"
   ]
  },
  {
   "cell_type": "code",
   "execution_count": 51,
   "id": "011af8a5",
   "metadata": {},
   "outputs": [
    {
     "data": {
      "text/plain": [
       "SVC()"
      ]
     },
     "execution_count": 51,
     "metadata": {},
     "output_type": "execute_result"
    }
   ],
   "source": [
    "svc_model.fit(x_train, y_train)"
   ]
  },
  {
   "cell_type": "markdown",
   "id": "51d12cb1",
   "metadata": {},
   "source": [
    "#### Make a prediction using the test set"
   ]
  },
  {
   "cell_type": "code",
   "execution_count": 52,
   "id": "2ff89451",
   "metadata": {},
   "outputs": [],
   "source": [
    "svc_prediction=svc_model.predict(x_test)"
   ]
  },
  {
   "cell_type": "code",
   "execution_count": 53,
   "id": "3b35a0da",
   "metadata": {},
   "outputs": [
    {
     "name": "stdout",
     "output_type": "stream",
     "text": [
      "F1-score% = 47.360912981455066 | Accuracy% = 89.97289972899729\n"
     ]
    }
   ],
   "source": [
    "print('F1-score% =', f1_score(y_test, svc_prediction, average='macro')*100, '|', 'Accuracy% =',\n",
    "      accuracy_score(y_test, svc_prediction)*100)"
   ]
  },
  {
   "cell_type": "code",
   "execution_count": 54,
   "id": "d924ceeb",
   "metadata": {},
   "outputs": [
    {
     "data": {
      "text/plain": [
       "0"
      ]
     },
     "execution_count": 54,
     "metadata": {},
     "output_type": "execute_result"
    }
   ],
   "source": [
    "svc_prediction[1]"
   ]
  },
  {
   "cell_type": "code",
   "execution_count": 55,
   "id": "3ddc488d",
   "metadata": {},
   "outputs": [],
   "source": [
    "svc_pred_labels = [np.argmax(i) for i in svc_prediction]"
   ]
  },
  {
   "cell_type": "code",
   "execution_count": 56,
   "id": "c2b6f7f9",
   "metadata": {},
   "outputs": [
    {
     "data": {
      "text/plain": [
       "[0, 0, 0, 0, 0]"
      ]
     },
     "execution_count": 56,
     "metadata": {},
     "output_type": "execute_result"
    }
   ],
   "source": [
    "svc_pred_labels[:5]"
   ]
  },
  {
   "cell_type": "markdown",
   "id": "1e7c93ee",
   "metadata": {},
   "source": [
    "# Confusion Matrix"
   ]
  },
  {
   "cell_type": "code",
   "execution_count": 57,
   "id": "bc8a5fe1",
   "metadata": {},
   "outputs": [],
   "source": [
    "cm=confusion_matrix(y_test,svc_pred_labels)"
   ]
  },
  {
   "cell_type": "code",
   "execution_count": 58,
   "id": "fe204c28",
   "metadata": {},
   "outputs": [
    {
     "data": {
      "text/plain": [
       "array([[664,   0],\n",
       "       [ 74,   0]], dtype=int64)"
      ]
     },
     "execution_count": 58,
     "metadata": {},
     "output_type": "execute_result"
    }
   ],
   "source": [
    "cm"
   ]
  },
  {
   "cell_type": "code",
   "execution_count": 24,
   "id": "60bb285c",
   "metadata": {},
   "outputs": [],
   "source": [
    "import seaborn as sn"
   ]
  },
  {
   "cell_type": "code",
   "execution_count": 287,
   "id": "6c6b6387",
   "metadata": {},
   "outputs": [
    {
     "data": {
      "text/plain": [
       "Text(69.0, 0.5, 'Truth')"
      ]
     },
     "execution_count": 287,
     "metadata": {},
     "output_type": "execute_result"
    },
    {
     "data": {
      "image/png": "[encoded data removed]",
      "text/plain": [
       "<Figure size 720x504 with 2 Axes>"
      ]
     },
     "metadata": {
      "needs_background": "light"
     },
     "output_type": "display_data"
    }
   ],
   "source": [
    "plt.figure(figsize= (10,7))\n",
    "sn.heatmap(cm,annot=True, fmt='d')\n",
    "plt.xlabel('Predicted')\n",
    "plt.ylabel('Truth')"
   ]
  },
  {
   "cell_type": "code",
   "execution_count": 288,
   "id": "8c17949b",
   "metadata": {},
   "outputs": [
    {
     "name": "stdout",
     "output_type": "stream",
     "text": [
      "Accuracy=(TP + TN)/n\n",
      "\t\t=97.56%\n",
      "\n",
      "Sensitivity=(TPR)=TP/(FN + TP)\n",
      "\t\t=0.0%\n",
      "\n",
      "Specificity=(TNR)=TN/(TN + FP)\n",
      "\t\t=100.0%\n",
      "\n",
      "False positive rate(FPR)=FP/(TN + TP)\n",
      "\t\t=0.0%\n",
      "\n",
      "False negative rate(FNR)=FN/(FN + TP)\n",
      "\t\t=100.0%\n",
      "\n",
      "Precision=TP/(TP+FP)\n"
     ]
    },
    {
     "ename": "ZeroDivisionError",
     "evalue": "division by zero",
     "output_type": "error",
     "traceback": [
      "\u001b[1;31m---------------------------------------------------------------------------\u001b[0m",
      "\u001b[1;31mZeroDivisionError\u001b[0m                         Traceback (most recent call last)",
      "\u001b[1;32m~\\AppData\\Local\\Temp/ipykernel_16512/450179389.py\u001b[0m in \u001b[0;36m<module>\u001b[1;34m\u001b[0m\n\u001b[0;32m     14\u001b[0m \u001b[0mprint\u001b[0m\u001b[1;33m(\u001b[0m\u001b[1;34mf'\\t\\t={round(FN/(FN+TP)*100,2)}%\\n'\u001b[0m\u001b[1;33m)\u001b[0m\u001b[1;33m\u001b[0m\u001b[1;33m\u001b[0m\u001b[0m\n\u001b[0;32m     15\u001b[0m \u001b[0mprint\u001b[0m\u001b[1;33m(\u001b[0m\u001b[1;34m'Precision=TP/(TP+FP)'\u001b[0m\u001b[1;33m)\u001b[0m\u001b[1;33m\u001b[0m\u001b[1;33m\u001b[0m\u001b[0m\n\u001b[1;32m---> 16\u001b[1;33m \u001b[0mprint\u001b[0m\u001b[1;33m(\u001b[0m\u001b[1;34mf'\\t\\t={round(TP/(TP+FP)*100,2)}%\\n'\u001b[0m\u001b[1;33m)\u001b[0m\u001b[1;33m\u001b[0m\u001b[1;33m\u001b[0m\u001b[0m\n\u001b[0m",
      "\u001b[1;31mZeroDivisionError\u001b[0m: division by zero"
     ]
    }
   ],
   "source": [
    "TP = 0\n",
    "TN = 720\n",
    "FN = 18\n",
    "FP = 0\n",
    "print('Accuracy=(TP + TN)/n')\n",
    "print(f'\\t\\t={round((TP+TN)/738*100,2)}%\\n')\n",
    "print('Sensitivity=(TPR)=TP/(FN + TP)')\n",
    "print(f'\\t\\t={round(TP/(FN+TP)*100,2)}%\\n')\n",
    "print('Specificity=(TNR)=TN/(TN + FP)')\n",
    "print(f'\\t\\t={round(TN/(TN+FP)*100,2)}%\\n')\n",
    "print('False positive rate(FPR)=FP/(TN + TP)')\n",
    "print(f'\\t\\t={round(FP/(TN+TP)*100,2)}%\\n')\n",
    "print('False negative rate(FNR)=FN/(FN + TP)')\n",
    "print(f'\\t\\t={round(FN/(FN+TP)*100,2)}%\\n')\n",
    "print('Precision=TP/(TP+FP)')\n",
    "print(f'\\t\\t={round(TP/(TP+FP)*100,2)}%\\n')"
   ]
  },
  {
   "cell_type": "code",
   "execution_count": 141,
   "id": "afb5df4d",
   "metadata": {},
   "outputs": [
    {
     "data": {
      "text/html": [
       "<div>\n",
       "<style scoped>\n",
       "    .dataframe tbody tr th:only-of-type {\n",
       "        vertical-align: middle;\n",
       "    }\n",
       "\n",
       "    .dataframe tbody tr th {\n",
       "        vertical-align: top;\n",
       "    }\n",
       "\n",
       "    .dataframe thead th {\n",
       "        text-align: right;\n",
       "    }\n",
       "</style>\n",
       "<table border=\"1\" class=\"dataframe\">\n",
       "  <thead>\n",
       "    <tr style=\"text-align: right;\">\n",
       "      <th></th>\n",
       "      <th>Summary Statistics</th>\n",
       "    </tr>\n",
       "  </thead>\n",
       "  <tbody>\n",
       "    <tr>\n",
       "      <th>count</th>\n",
       "      <td>738.0</td>\n",
       "    </tr>\n",
       "    <tr>\n",
       "      <th>mean</th>\n",
       "      <td>0.0</td>\n",
       "    </tr>\n",
       "    <tr>\n",
       "      <th>std</th>\n",
       "      <td>0.0</td>\n",
       "    </tr>\n",
       "    <tr>\n",
       "      <th>min</th>\n",
       "      <td>0.0</td>\n",
       "    </tr>\n",
       "    <tr>\n",
       "      <th>25%</th>\n",
       "      <td>0.0</td>\n",
       "    </tr>\n",
       "    <tr>\n",
       "      <th>50%</th>\n",
       "      <td>0.0</td>\n",
       "    </tr>\n",
       "    <tr>\n",
       "      <th>75%</th>\n",
       "      <td>0.0</td>\n",
       "    </tr>\n",
       "    <tr>\n",
       "      <th>max</th>\n",
       "      <td>0.0</td>\n",
       "    </tr>\n",
       "  </tbody>\n",
       "</table>\n",
       "</div>"
      ],
      "text/plain": [
       "       Summary Statistics\n",
       "count               738.0\n",
       "mean                  0.0\n",
       "std                   0.0\n",
       "min                   0.0\n",
       "25%                   0.0\n",
       "50%                   0.0\n",
       "75%                   0.0\n",
       "max                   0.0"
      ]
     },
     "execution_count": 141,
     "metadata": {},
     "output_type": "execute_result"
    }
   ],
   "source": [
    "df = pd.DataFrame(svc_pred_labels,columns=['Summary Statistics'])\n",
    "df.describe()"
   ]
  },
  {
   "cell_type": "code",
   "execution_count": 143,
   "id": "35790d60",
   "metadata": {},
   "outputs": [
    {
     "name": "stdout",
     "output_type": "stream",
     "text": [
      "Mean = 0\n",
      "std = 15\n",
      "Mae = 3\n",
      "Kapa = 0\n",
      "Rms = 17\n",
      "Cd = -3\n"
     ]
    }
   ],
   "source": [
    "from sklearn.metrics import cohen_kappa_score, mean_absolute_error, mean_squared_error, r2_score\n",
    "from math import sqrt\n",
    "\n",
    "# kappa statistics\n",
    "kapa=cohen_kappa_score(y_test,svc_pred_labels)\n",
    "\n",
    "# Mean absolute error\n",
    "mae=mean_absolute_error(y_test, svc_pred_labels)\n",
    "\n",
    "# root mean square error\n",
    "rms = sqrt(mean_squared_error(y_test,svc_pred_labels))\n",
    "\n",
    "# Coefficient of determination\n",
    "cd = r2_score(y_test, svc_pred_labels)\n",
    "\n",
    "# mean\n",
    "mean = np.mean(svc_pred_labels)\n",
    "\n",
    "# Standard Deviation\n",
    "std = np.std(nt_pred_labels)\n",
    "\n",
    "print(\"Mean = {0:.0f}\".format(mean*100))\n",
    "\n",
    "print(\"std = {0:.0f}\".format(std*100))\n",
    "\n",
    "print(\"Mae = {0:.0f}\".format(mae*100))\n",
    "\n",
    "print(\"Kapa = {0:.0f}\".format(kapa*100))\n",
    "\n",
    "print(\"Rms = {0:.0f}\".format(rms*100))\n",
    "\n",
    "print(\"Cd = {0:.0f}\".format(cd*100))\n"
   ]
  },
  {
   "cell_type": "markdown",
   "id": "ff681df7",
   "metadata": {},
   "source": [
    "### Next we will build an artificial neural network to model our data and make predictions"
   ]
  },
  {
   "cell_type": "code",
   "execution_count": 27,
   "id": "91fa08b8",
   "metadata": {},
   "outputs": [
    {
     "data": {
      "text/plain": [
       "4182"
      ]
     },
     "execution_count": 27,
     "metadata": {},
     "output_type": "execute_result"
    }
   ],
   "source": [
    "len(x_train)"
   ]
  },
  {
   "cell_type": "code",
   "execution_count": 28,
   "id": "a0067ec8",
   "metadata": {},
   "outputs": [
    {
     "data": {
      "text/plain": [
       "4182"
      ]
     },
     "execution_count": 28,
     "metadata": {},
     "output_type": "execute_result"
    }
   ],
   "source": [
    "len(y_train)"
   ]
  },
  {
   "cell_type": "code",
   "execution_count": 29,
   "id": "733249b5",
   "metadata": {},
   "outputs": [
    {
     "data": {
      "text/plain": [
       "(132,)"
      ]
     },
     "execution_count": 29,
     "metadata": {},
     "output_type": "execute_result"
    }
   ],
   "source": [
    "x_train[0].shape"
   ]
  },
  {
   "cell_type": "code",
   "execution_count": 30,
   "id": "1167adb6",
   "metadata": {},
   "outputs": [
    {
     "data": {
      "text/plain": [
       "array([0, 0, 0, 0, 1, 0, 0, 0, 0, 0, 0, 0, 0, 1, 0, 0, 0, 0, 0, 0, 0, 0,\n",
       "       0, 1, 1, 0, 1, 1, 0, 0, 0, 0, 0, 0, 0, 0, 0, 0, 0, 0, 0, 0, 0, 0,\n",
       "       0, 0, 0, 1, 0, 1, 0, 0, 0, 0, 0, 1, 0, 1, 0, 0, 0, 0, 0, 0, 0, 0,\n",
       "       0, 0, 0, 0, 0, 0, 0, 0, 0, 0, 0, 0, 0, 0, 0, 0, 0, 0, 0, 0, 0, 0,\n",
       "       0, 0, 0, 0, 0, 0, 0, 0, 0, 0, 0, 0, 0, 0, 0, 0, 0, 0, 0, 1, 0, 0,\n",
       "       0, 0, 0, 0, 0, 0, 0, 0, 0, 0, 0, 0, 0, 0, 0, 0, 0, 0, 0, 0, 0, 0],\n",
       "      dtype=int64)"
      ]
     },
     "execution_count": 30,
     "metadata": {},
     "output_type": "execute_result"
    }
   ],
   "source": [
    "x_train[0]"
   ]
  },
  {
   "cell_type": "code",
   "execution_count": null,
   "id": "fd70a43d",
   "metadata": {},
   "outputs": [],
   "source": []
  },
  {
   "cell_type": "code",
   "execution_count": 31,
   "id": "e4aa7afb",
   "metadata": {},
   "outputs": [
    {
     "data": {
      "text/plain": [
       "(4182, 132)"
      ]
     },
     "execution_count": 31,
     "metadata": {},
     "output_type": "execute_result"
    }
   ],
   "source": [
    "x_train.shape"
   ]
  },
  {
   "cell_type": "code",
   "execution_count": 32,
   "id": "2763c85e",
   "metadata": {},
   "outputs": [],
   "source": [
    "from tensorflow import keras"
   ]
  },
  {
   "cell_type": "code",
   "execution_count": 33,
   "id": "79eec245",
   "metadata": {},
   "outputs": [
    {
     "data": {
      "text/plain": [
       "(738, 132)"
      ]
     },
     "execution_count": 33,
     "metadata": {},
     "output_type": "execute_result"
    }
   ],
   "source": [
    "x_test.shape"
   ]
  },
  {
   "cell_type": "markdown",
   "id": "fd6d51e3",
   "metadata": {},
   "source": [
    "#### Below Sequential means am having a stack of layers in my neural network. And since it is a stack it will accept every layer as one\n",
    "#### element.Dense means all the neurons in one layer are connected to every other neuron in the next layer.The Dense method accepts\n",
    "#### three arguments: The output shape,input shape and the activation function"
   ]
  },
  {
   "cell_type": "code",
   "execution_count": 97,
   "id": "58bbb855",
   "metadata": {},
   "outputs": [],
   "source": [
    "nt_model = keras.Sequential([\n",
    "   tk.keras.layers.Dense(2,input_shape=(132,),activation='sigmoid') \n",
    "])"
   ]
  },
  {
   "cell_type": "code",
   "execution_count": 98,
   "id": "9431b3d4",
   "metadata": {},
   "outputs": [],
   "source": [
    "nt_model.compile(\n",
    "    optimizer='adam',\n",
    "    loss='sparse_categorical_crossentropy',\n",
    "    metrics=['accuracy',]\n",
    ")"
   ]
  },
  {
   "cell_type": "code",
   "execution_count": 99,
   "id": "6d9be2aa",
   "metadata": {},
   "outputs": [
    {
     "name": "stdout",
     "output_type": "stream",
     "text": [
      "Epoch 1/5\n",
      "131/131 [==============================] - 1s 2ms/step - loss: 0.4566 - accuracy: 0.8556\n",
      "Epoch 2/5\n",
      "131/131 [==============================] - 0s 2ms/step - loss: 0.2206 - accuracy: 0.9763\n",
      "Epoch 3/5\n",
      "131/131 [==============================] - 0s 3ms/step - loss: 0.1421 - accuracy: 0.9763\n",
      "Epoch 4/5\n",
      "131/131 [==============================] - 0s 2ms/step - loss: 0.1010 - accuracy: 0.9763\n",
      "Epoch 5/5\n",
      "131/131 [==============================] - 0s 2ms/step - loss: 0.0754 - accuracy: 0.9802\n"
     ]
    },
    {
     "data": {
      "text/plain": [
       "<tensorflow.python.keras.callbacks.History at 0x1ae62a64880>"
      ]
     },
     "execution_count": 99,
     "metadata": {},
     "output_type": "execute_result"
    }
   ],
   "source": [
    "nt_model.fit(x_train, y_train,epochs=5)"
   ]
  },
  {
   "cell_type": "code",
   "execution_count": 100,
   "id": "94be7c26",
   "metadata": {},
   "outputs": [
    {
     "name": "stdout",
     "output_type": "stream",
     "text": [
      "24/24 [==============================] - 0s 2ms/step - loss: 0.0668 - accuracy: 0.9959\n"
     ]
    },
    {
     "data": {
      "text/plain": [
       "[0.0668339878320694, 0.9959349632263184]"
      ]
     },
     "execution_count": 100,
     "metadata": {},
     "output_type": "execute_result"
    }
   ],
   "source": [
    "nt_model.evaluate(x_test,y_test)"
   ]
  },
  {
   "cell_type": "code",
   "execution_count": 101,
   "id": "6de2116f",
   "metadata": {},
   "outputs": [],
   "source": [
    "nt_prediction=nt_model.predict(x_test)"
   ]
  },
  {
   "cell_type": "code",
   "execution_count": 102,
   "id": "85f6210d",
   "metadata": {},
   "outputs": [
    {
     "data": {
      "text/plain": [
       "array([0.9072995 , 0.09017429], dtype=float32)"
      ]
     },
     "execution_count": 102,
     "metadata": {},
     "output_type": "execute_result"
    }
   ],
   "source": [
    "nt_prediction[1]"
   ]
  },
  {
   "cell_type": "code",
   "execution_count": 103,
   "id": "960b4dbf",
   "metadata": {},
   "outputs": [
    {
     "data": {
      "text/plain": [
       "array([[0.82377994, 0.20343503],\n",
       "       [0.9072995 , 0.09017429],\n",
       "       [0.9144767 , 0.18151262],\n",
       "       ...,\n",
       "       [0.7971908 , 0.14331618],\n",
       "       [0.811322  , 0.14434189],\n",
       "       [0.9565628 , 0.09445193]], dtype=float32)"
      ]
     },
     "execution_count": 103,
     "metadata": {},
     "output_type": "execute_result"
    }
   ],
   "source": [
    "nt_prediction"
   ]
  },
  {
   "cell_type": "code",
   "execution_count": 104,
   "id": "ecd3dd1e",
   "metadata": {},
   "outputs": [],
   "source": [
    "nt_pred_labels = [np.argmax(i) for i in nt_prediction]"
   ]
  },
  {
   "cell_type": "code",
   "execution_count": 105,
   "id": "85a2d986",
   "metadata": {},
   "outputs": [
    {
     "data": {
      "text/plain": [
       "[0, 0, 0, 0, 0]"
      ]
     },
     "execution_count": 105,
     "metadata": {},
     "output_type": "execute_result"
    }
   ],
   "source": [
    "nt_pred_labels[:5]"
   ]
  },
  {
   "cell_type": "markdown",
   "id": "0cfdf1fe",
   "metadata": {},
   "source": [
    "# Confusion Matrix"
   ]
  },
  {
   "cell_type": "code",
   "execution_count": 106,
   "id": "f231a0c3",
   "metadata": {},
   "outputs": [],
   "source": [
    "cm=tk.math.confusion_matrix(labels=y_test,predictions=nt_pred_labels)"
   ]
  },
  {
   "cell_type": "code",
   "execution_count": 107,
   "id": "3cdfff13",
   "metadata": {},
   "outputs": [
    {
     "name": "stdout",
     "output_type": "stream",
     "text": [
      "tf.Tensor(\n",
      "[[717   0]\n",
      " [  3  18]], shape=(2, 2), dtype=int32)\n"
     ]
    }
   ],
   "source": [
    "print(cm)"
   ]
  },
  {
   "cell_type": "code",
   "execution_count": 108,
   "id": "38b67a76",
   "metadata": {},
   "outputs": [],
   "source": [
    "\n",
    "new_cm = [[717, 0],[3, 18]]\n"
   ]
  },
  {
   "cell_type": "code",
   "execution_count": null,
   "id": "32d5a9fb",
   "metadata": {},
   "outputs": [],
   "source": []
  },
  {
   "cell_type": "code",
   "execution_count": null,
   "id": "67c61262",
   "metadata": {},
   "outputs": [],
   "source": []
  },
  {
   "cell_type": "code",
   "execution_count": null,
   "id": "a3aa7fb5",
   "metadata": {},
   "outputs": [],
   "source": []
  },
  {
   "cell_type": "code",
   "execution_count": 109,
   "id": "d0231b10",
   "metadata": {},
   "outputs": [
    {
     "data": {
      "text/plain": [
       "Text(69.0, 0.5, 'Truth')"
      ]
     },
     "execution_count": 109,
     "metadata": {},
     "output_type": "execute_result"
    },
    {
     "data": {
      "image/png": "[encoded data removed]",
      "text/plain": [
       "<Figure size 720x504 with 2 Axes>"
      ]
     },
     "metadata": {
      "needs_background": "light"
     },
     "output_type": "display_data"
    }
   ],
   "source": [
    "plt.figure(figsize= (10,7))\n",
    "sn.heatmap(new_cm,annot=True, fmt='d')\n",
    "plt.xlabel('Predicted')\n",
    "plt.ylabel('Truth')"
   ]
  },
  {
   "cell_type": "code",
   "execution_count": null,
   "id": "f9ca66ed",
   "metadata": {},
   "outputs": [],
   "source": []
  },
  {
   "cell_type": "code",
   "execution_count": null,
   "id": "4840d588",
   "metadata": {},
   "outputs": [],
   "source": []
  },
  {
   "cell_type": "code",
   "execution_count": 114,
   "id": "96dc1f31",
   "metadata": {},
   "outputs": [
    {
     "name": "stdout",
     "output_type": "stream",
     "text": [
      "Accuracy=(TP + TN)/n\n",
      "\t\t=99.59%\n",
      "\n",
      "Sensitivity=(TPR)=TP/(FN + TP)\n",
      "\t\t=85.71%\n",
      "\n",
      "Specificity=(TNR)=TN/(TN + FP)\n",
      "\t\t=100.0%\n",
      "\n",
      "False positive rate(FPR)=FP/(TN + TP)\n",
      "\t\t=0.0%\n",
      "\n",
      "False negative rate(FNR)=FN/(FN + TP)\n",
      "\t\t=14.29%\n",
      "\n",
      "Precision=TP/(TP+FP)\n",
      "\t\t=100.0%\n",
      "\n"
     ]
    }
   ],
   "source": [
    "TP = 18\n",
    "TN = 717\n",
    "FN = 3\n",
    "FP = 0\n",
    "print('Accuracy=(TP + TN)/n')\n",
    "print(f'\\t\\t={round((TP+TN)/738*100,2)}%\\n')\n",
    "print('Sensitivity=(TPR)=TP/(FN + TP)')\n",
    "print(f'\\t\\t={round(TP/(FN+TP)*100,2)}%\\n')\n",
    "print('Specificity=(TNR)=TN/(TN + FP)')\n",
    "print(f'\\t\\t={round(TN/(TN+FP)*100,2)}%\\n')\n",
    "print('False positive rate(FPR)=FP/(TN + TP)')\n",
    "print(f'\\t\\t={round(FP/(TN+TP)*100,2)}%\\n')\n",
    "print('False negative rate(FNR)=FN/(FN + TP)')\n",
    "print(f'\\t\\t={round(FN/(FN+TP)*100,2)}%\\n')\n",
    "print('Precision=TP/(TP+FP)')\n",
    "print(f'\\t\\t={round(TP/(TP+FP)*100,2)}%\\n')"
   ]
  },
  {
   "cell_type": "code",
   "execution_count": 125,
   "id": "f2136137",
   "metadata": {},
   "outputs": [
    {
     "data": {
      "text/html": [
       "<div>\n",
       "<style scoped>\n",
       "    .dataframe tbody tr th:only-of-type {\n",
       "        vertical-align: middle;\n",
       "    }\n",
       "\n",
       "    .dataframe tbody tr th {\n",
       "        vertical-align: top;\n",
       "    }\n",
       "\n",
       "    .dataframe thead th {\n",
       "        text-align: right;\n",
       "    }\n",
       "</style>\n",
       "<table border=\"1\" class=\"dataframe\">\n",
       "  <thead>\n",
       "    <tr style=\"text-align: right;\">\n",
       "      <th></th>\n",
       "      <th>Summary Statistics</th>\n",
       "    </tr>\n",
       "  </thead>\n",
       "  <tbody>\n",
       "    <tr>\n",
       "      <th>count</th>\n",
       "      <td>738.000000</td>\n",
       "    </tr>\n",
       "    <tr>\n",
       "      <th>mean</th>\n",
       "      <td>0.024390</td>\n",
       "    </tr>\n",
       "    <tr>\n",
       "      <th>std</th>\n",
       "      <td>0.154362</td>\n",
       "    </tr>\n",
       "    <tr>\n",
       "      <th>min</th>\n",
       "      <td>0.000000</td>\n",
       "    </tr>\n",
       "    <tr>\n",
       "      <th>25%</th>\n",
       "      <td>0.000000</td>\n",
       "    </tr>\n",
       "    <tr>\n",
       "      <th>50%</th>\n",
       "      <td>0.000000</td>\n",
       "    </tr>\n",
       "    <tr>\n",
       "      <th>75%</th>\n",
       "      <td>0.000000</td>\n",
       "    </tr>\n",
       "    <tr>\n",
       "      <th>max</th>\n",
       "      <td>1.000000</td>\n",
       "    </tr>\n",
       "  </tbody>\n",
       "</table>\n",
       "</div>"
      ],
      "text/plain": [
       "       Summary Statistics\n",
       "count          738.000000\n",
       "mean             0.024390\n",
       "std              0.154362\n",
       "min              0.000000\n",
       "25%              0.000000\n",
       "50%              0.000000\n",
       "75%              0.000000\n",
       "max              1.000000"
      ]
     },
     "execution_count": 125,
     "metadata": {},
     "output_type": "execute_result"
    }
   ],
   "source": [
    "df = pd.DataFrame(nt_pred_labels,columns=['Summary Statistics'])\n",
    "df.describe()"
   ]
  },
  {
   "cell_type": "code",
   "execution_count": 154,
   "id": "72c02a56",
   "metadata": {},
   "outputs": [
    {
     "name": "stdout",
     "output_type": "stream",
     "text": [
      "Mean = 2\n",
      "std = 15\n",
      "Mae = 0\n",
      "Kapa = 92\n",
      "Rms = 6\n",
      "Cd = 85\n"
     ]
    }
   ],
   "source": [
    "\n",
    "from sklearn.metrics import cohen_kappa_score, mean_absolute_error, mean_squared_error, r2_score\n",
    "from math import sqrt\n",
    "\n",
    "# kappa statistics\n",
    "kapa=cohen_kappa_score(y_test,nt_pred_labels)\n",
    "\n",
    "# Mean absolute error\n",
    "mae=mean_absolute_error(y_test, nt_pred_labels)\n",
    "\n",
    "# root mean square error\n",
    "rms = sqrt(mean_squared_error(y_test,nt_pred_labels))\n",
    "\n",
    "# Coefficient of determination\n",
    "cd = r2_score(y_test, nt_pred_labels)\n",
    "\n",
    "# mean\n",
    "mean = np.mean(nt_pred_labels)\n",
    "\n",
    "# Standard Deviation\n",
    "std = np.std(nt_pred_labels)\n",
    "\n",
    "print(\"Mean = {0:.0f}\".format(mean*100))\n",
    "\n",
    "print(\"std = {0:.0f}\".format(std*100))\n",
    "\n",
    "print(\"Mae = {0:.0f}\".format(mae*100))\n",
    "\n",
    "print(\"Kapa = {0:.0f}\".format(kapa*100))\n",
    "\n",
    "print(\"Rms = {0:.0f}\".format(rms*100))\n",
    "\n",
    "print(\"Cd = {0:.0f}\".format(cd*100))\n"
   ]
  },
  {
   "cell_type": "markdown",
   "id": "f8574b39",
   "metadata": {},
   "source": [
    "### Next we are going to use the Naive Bayes Algorithm to model our dataset and make predictions"
   ]
  },
  {
   "cell_type": "code",
   "execution_count": 148,
   "id": "fe4926da",
   "metadata": {},
   "outputs": [],
   "source": [
    "from sklearn.naive_bayes import GaussianNB"
   ]
  },
  {
   "cell_type": "code",
   "execution_count": 149,
   "id": "1b24c15e",
   "metadata": {},
   "outputs": [],
   "source": [
    "model = GaussianNB()"
   ]
  },
  {
   "cell_type": "code",
   "execution_count": 150,
   "id": "6ed7485f",
   "metadata": {},
   "outputs": [
    {
     "data": {
      "text/plain": [
       "GaussianNB()"
      ]
     },
     "execution_count": 150,
     "metadata": {},
     "output_type": "execute_result"
    }
   ],
   "source": [
    "model.fit(x_train, y_train)"
   ]
  },
  {
   "cell_type": "code",
   "execution_count": 151,
   "id": "c2fdd000",
   "metadata": {},
   "outputs": [],
   "source": [
    "pred=model.predict(x_test)"
   ]
  },
  {
   "cell_type": "code",
   "execution_count": 152,
   "id": "9af6fa90",
   "metadata": {},
   "outputs": [],
   "source": [
    "pred_label = [np.argmax(i) for i in pred]"
   ]
  },
  {
   "cell_type": "code",
   "execution_count": 50,
   "id": "d06e1621",
   "metadata": {},
   "outputs": [
    {
     "data": {
      "text/plain": [
       "[0, 0, 0, 0, 0]"
      ]
     },
     "execution_count": 50,
     "metadata": {},
     "output_type": "execute_result"
    }
   ],
   "source": [
    "pred_label[:5]"
   ]
  },
  {
   "cell_type": "markdown",
   "id": "c7557151",
   "metadata": {},
   "source": [
    "# Confusion Matrix"
   ]
  },
  {
   "cell_type": "code",
   "execution_count": null,
   "id": "85b74f79",
   "metadata": {},
   "outputs": [],
   "source": [
    "cm=tk.math.confusion_matrix(labels=y_test,predictions=nt_pred_labels)"
   ]
  },
  {
   "cell_type": "code",
   "execution_count": 51,
   "id": "14655556",
   "metadata": {},
   "outputs": [
    {
     "data": {
      "text/plain": [
       "<tf.Tensor: shape=(2, 2), dtype=int32, numpy=\n",
       "array([[723,   0],\n",
       "       [  0,  15]])>"
      ]
     },
     "execution_count": 51,
     "metadata": {},
     "output_type": "execute_result"
    }
   ],
   "source": [
    "cm"
   ]
  },
  {
   "cell_type": "code",
   "execution_count": 52,
   "id": "a9f8b666",
   "metadata": {},
   "outputs": [
    {
     "data": {
      "text/plain": [
       "Text(69.0, 0.5, 'Truth')"
      ]
     },
     "execution_count": 52,
     "metadata": {},
     "output_type": "execute_result"
    },
    {
     "data": {
      "image/png": "[encoded data removed]",
      "text/plain": [
       "<Figure size 720x504 with 2 Axes>"
      ]
     },
     "metadata": {
      "needs_background": "light"
     },
     "output_type": "display_data"
    }
   ],
   "source": [
    "plt.figure(figsize= (10,7))\n",
    "sn.heatmap(cm,annot=True, fmt='d')\n",
    "plt.xlabel('Predicted')\n",
    "plt.ylabel('Truth')"
   ]
  },
  {
   "cell_type": "markdown",
   "id": "57d1cd66",
   "metadata": {},
   "source": [
    "#### From above we can see that our naive beyes algorithm missclassified 0 point i.e 100% accuracy"
   ]
  },
  {
   "cell_type": "code",
   "execution_count": 116,
   "id": "3b9a18c0",
   "metadata": {},
   "outputs": [
    {
     "name": "stdout",
     "output_type": "stream",
     "text": [
      "Accuracy=(TP + TN)/n\n",
      "\t\t=100.0%\n",
      "\n",
      "Sensitivity=(TPR)=TP/(FN + TP)\n",
      "\t\t=100.0%\n",
      "\n",
      "Specificity=(TNR)=TN/(TN + FP)\n",
      "\t\t=100.0%\n",
      "\n",
      "False positive rate(FPR)=FP/(TN + TP)\n",
      "\t\t=0.0%\n",
      "\n",
      "False negative rate(FNR)=FN/(FN + TP)\n",
      "\t\t=0.0%\n",
      "\n",
      "Precision=TP/(TP+FP)\n",
      "\t\t=100.0%\n",
      "\n"
     ]
    }
   ],
   "source": [
    "TP = 15\n",
    "TN = 723\n",
    "FN = 0\n",
    "FP = 0\n",
    "print('Accuracy=(TP + TN)/n')\n",
    "print(f'\\t\\t={round((TP+TN)/738*100,2)}%\\n')\n",
    "print('Sensitivity=(TPR)=TP/(FN + TP)')\n",
    "print(f'\\t\\t={round(TP/(FN+TP)*100,2)}%\\n')\n",
    "print('Specificity=(TNR)=TN/(TN + FP)')\n",
    "print(f'\\t\\t={round(TN/(TN+FP)*100,2)}%\\n')\n",
    "print('False positive rate(FPR)=FP/(TN + TP)')\n",
    "print(f'\\t\\t={round(FP/(TN+TP)*100,2)}%\\n')\n",
    "print('False negative rate(FNR)=FN/(FN + TP)')\n",
    "print(f'\\t\\t={round(FN/(FN+TP)*100,2)}%\\n')\n",
    "print('Precision=TP/(TP+FP)')\n",
    "print(f'\\t\\t={round(TP/(TP+FP)*100,2)}%\\n')"
   ]
  },
  {
   "cell_type": "code",
   "execution_count": 153,
   "id": "49821adc",
   "metadata": {},
   "outputs": [
    {
     "data": {
      "text/html": [
       "<div>\n",
       "<style scoped>\n",
       "    .dataframe tbody tr th:only-of-type {\n",
       "        vertical-align: middle;\n",
       "    }\n",
       "\n",
       "    .dataframe tbody tr th {\n",
       "        vertical-align: top;\n",
       "    }\n",
       "\n",
       "    .dataframe thead th {\n",
       "        text-align: right;\n",
       "    }\n",
       "</style>\n",
       "<table border=\"1\" class=\"dataframe\">\n",
       "  <thead>\n",
       "    <tr style=\"text-align: right;\">\n",
       "      <th></th>\n",
       "      <th>Summary Statistics</th>\n",
       "    </tr>\n",
       "  </thead>\n",
       "  <tbody>\n",
       "    <tr>\n",
       "      <th>count</th>\n",
       "      <td>738.0</td>\n",
       "    </tr>\n",
       "    <tr>\n",
       "      <th>mean</th>\n",
       "      <td>0.0</td>\n",
       "    </tr>\n",
       "    <tr>\n",
       "      <th>std</th>\n",
       "      <td>0.0</td>\n",
       "    </tr>\n",
       "    <tr>\n",
       "      <th>min</th>\n",
       "      <td>0.0</td>\n",
       "    </tr>\n",
       "    <tr>\n",
       "      <th>25%</th>\n",
       "      <td>0.0</td>\n",
       "    </tr>\n",
       "    <tr>\n",
       "      <th>50%</th>\n",
       "      <td>0.0</td>\n",
       "    </tr>\n",
       "    <tr>\n",
       "      <th>75%</th>\n",
       "      <td>0.0</td>\n",
       "    </tr>\n",
       "    <tr>\n",
       "      <th>max</th>\n",
       "      <td>0.0</td>\n",
       "    </tr>\n",
       "  </tbody>\n",
       "</table>\n",
       "</div>"
      ],
      "text/plain": [
       "       Summary Statistics\n",
       "count               738.0\n",
       "mean                  0.0\n",
       "std                   0.0\n",
       "min                   0.0\n",
       "25%                   0.0\n",
       "50%                   0.0\n",
       "75%                   0.0\n",
       "max                   0.0"
      ]
     },
     "execution_count": 153,
     "metadata": {},
     "output_type": "execute_result"
    }
   ],
   "source": [
    "df = pd.DataFrame(pred_label,columns=['Summary Statistics'])\n",
    "df.describe()"
   ]
  },
  {
   "cell_type": "code",
   "execution_count": 156,
   "id": "4b18ef28",
   "metadata": {},
   "outputs": [
    {
     "name": "stdout",
     "output_type": "stream",
     "text": [
      "Mean = 0\n",
      "std = 0\n",
      "Mae = 3\n",
      "Kapa = 0\n",
      "Rms = 17\n",
      "Cd = -3\n"
     ]
    }
   ],
   "source": [
    "from sklearn.metrics import cohen_kappa_score, mean_absolute_error, mean_squared_error, r2_score\n",
    "from math import sqrt\n",
    "\n",
    "# kappa statistics\n",
    "kapa=cohen_kappa_score(y_test,pred_label)\n",
    "\n",
    "# Mean absolute error\n",
    "mae=mean_absolute_error(y_test, pred_label)\n",
    "\n",
    "# root mean square error\n",
    "rms = sqrt(mean_squared_error(y_test,pred_label))\n",
    "\n",
    "# Coefficient of determination\n",
    "cd = r2_score(y_test, pred_label)\n",
    "\n",
    "# mean\n",
    "mean = np.mean(pred_label)\n",
    "\n",
    "# Standard Deviation\n",
    "std = np.std(pred_label)\n",
    "\n",
    "print(\"Mean = {0:.0f}\".format(mean*100))\n",
    "\n",
    "print(\"std = {0:.0f}\".format(std*100))\n",
    "\n",
    "print(\"Mae = {0:.0f}\".format(mae*100))\n",
    "\n",
    "print(\"Kapa = {0:.0f}\".format(kapa*100))\n",
    "\n",
    "print(\"Rms = {0:.0f}\".format(rms*100))\n",
    "\n",
    "print(\"Cd = {0:.0f}\".format(cd*100))"
   ]
  },
  {
   "cell_type": "markdown",
   "id": "20902720",
   "metadata": {},
   "source": [
    "# Performance Summary"
   ]
  },
  {
   "cell_type": "code",
   "execution_count": 240,
   "id": "160bfe43",
   "metadata": {},
   "outputs": [],
   "source": [
    "svc_stat = np.array(['Support Vector Machine','100'\n",
    ",'0','0','3',\n",
    "'17','-3','738'])\n",
    "\n",
    "nt_stat = np.array(['Artificial Neural Network','99'\n",
    ",'1','92','0',\n",
    "'6','85','738'])\n",
    "\n",
    "naive_bayes_stat = np.array(['Naive Bayes','100'\n",
    ",'0','0','3',\n",
    "'17','-3','738'])\n"
   ]
  },
  {
   "cell_type": "code",
   "execution_count": 241,
   "id": "5b49b13f",
   "metadata": {},
   "outputs": [],
   "source": [
    "\n",
    "\n",
    "#create data\n",
    "df = pd.DataFrame([svc_stat,nt_stat,naive_bayes_stat],columns=['Classifier','Correctly classified Accuracy (in %)'\n",
    ",'Incorrectly classified(in %)','Kapa Statistics (in %)','Mean Absolute Error (in %)',\n",
    "'Root Mean sq. Error (in %)','Coefficient of determination (in %)','Number Instance'])\n"
   ]
  },
  {
   "cell_type": "code",
   "execution_count": 242,
   "id": "27654eef",
   "metadata": {},
   "outputs": [
    {
     "data": {
      "text/html": [
       "<div>\n",
       "<style scoped>\n",
       "    .dataframe tbody tr th:only-of-type {\n",
       "        vertical-align: middle;\n",
       "    }\n",
       "\n",
       "    .dataframe tbody tr th {\n",
       "        vertical-align: top;\n",
       "    }\n",
       "\n",
       "    .dataframe thead th {\n",
       "        text-align: right;\n",
       "    }\n",
       "</style>\n",
       "<table border=\"1\" class=\"dataframe\">\n",
       "  <thead>\n",
       "    <tr style=\"text-align: right;\">\n",
       "      <th></th>\n",
       "      <th>Classifier</th>\n",
       "      <th>Correctly classified Accuracy (in %)</th>\n",
       "      <th>Incorrectly classified(in %)</th>\n",
       "      <th>Kapa Statistics (in %)</th>\n",
       "      <th>Mean Absolute Error (in %)</th>\n",
       "      <th>Root Mean sq. Error (in %)</th>\n",
       "      <th>Coefficient of determination (in %)</th>\n",
       "      <th>Number Instance</th>\n",
       "    </tr>\n",
       "  </thead>\n",
       "  <tbody>\n",
       "    <tr>\n",
       "      <th>0</th>\n",
       "      <td>Support Vector Machine</td>\n",
       "      <td>100</td>\n",
       "      <td>0</td>\n",
       "      <td>0</td>\n",
       "      <td>3</td>\n",
       "      <td>17</td>\n",
       "      <td>-3</td>\n",
       "      <td>738</td>\n",
       "    </tr>\n",
       "    <tr>\n",
       "      <th>1</th>\n",
       "      <td>Artificial Neural Network</td>\n",
       "      <td>99</td>\n",
       "      <td>1</td>\n",
       "      <td>92</td>\n",
       "      <td>0</td>\n",
       "      <td>6</td>\n",
       "      <td>85</td>\n",
       "      <td>738</td>\n",
       "    </tr>\n",
       "    <tr>\n",
       "      <th>2</th>\n",
       "      <td>Naive Bayes</td>\n",
       "      <td>100</td>\n",
       "      <td>0</td>\n",
       "      <td>0</td>\n",
       "      <td>3</td>\n",
       "      <td>17</td>\n",
       "      <td>-3</td>\n",
       "      <td>738</td>\n",
       "    </tr>\n",
       "  </tbody>\n",
       "</table>\n",
       "</div>"
      ],
      "text/plain": [
       "                  Classifier Correctly classified Accuracy (in %)  \\\n",
       "0     Support Vector Machine                                  100   \n",
       "1  Artificial Neural Network                                   99   \n",
       "2                Naive Bayes                                  100   \n",
       "\n",
       "  Incorrectly classified(in %) Kapa Statistics (in %)  \\\n",
       "0                            0                      0   \n",
       "1                            1                     92   \n",
       "2                            0                      0   \n",
       "\n",
       "  Mean Absolute Error (in %) Root Mean sq. Error (in %)  \\\n",
       "0                          3                         17   \n",
       "1                          0                          6   \n",
       "2                          3                         17   \n",
       "\n",
       "  Coefficient of determination (in %) Number Instance  \n",
       "0                                  -3             738  \n",
       "1                                  85             738  \n",
       "2                                  -3             738  "
      ]
     },
     "execution_count": 242,
     "metadata": {},
     "output_type": "execute_result"
    }
   ],
   "source": [
    "df"
   ]
  },
  {
   "cell_type": "markdown",
   "id": "8d0b86d6",
   "metadata": {},
   "source": [
    "## Typhoid Analysis"
   ]
  },
  {
   "cell_type": "markdown",
   "id": "545e1b12",
   "metadata": {},
   "source": [
    "#### Read Dataset"
   ]
  },
  {
   "cell_type": "code",
   "execution_count": 198,
   "id": "2595da75",
   "metadata": {},
   "outputs": [],
   "source": [
    "df = pd.read_csv('typhoidTraining.csv')"
   ]
  },
  {
   "cell_type": "code",
   "execution_count": 199,
   "id": "f33cf03a",
   "metadata": {},
   "outputs": [
    {
     "data": {
      "text/html": [
       "<div>\n",
       "<style scoped>\n",
       "    .dataframe tbody tr th:only-of-type {\n",
       "        vertical-align: middle;\n",
       "    }\n",
       "\n",
       "    .dataframe tbody tr th {\n",
       "        vertical-align: top;\n",
       "    }\n",
       "\n",
       "    .dataframe thead th {\n",
       "        text-align: right;\n",
       "    }\n",
       "</style>\n",
       "<table border=\"1\" class=\"dataframe\">\n",
       "  <thead>\n",
       "    <tr style=\"text-align: right;\">\n",
       "      <th></th>\n",
       "      <th>itching</th>\n",
       "      <th>skin_rash</th>\n",
       "      <th>nodal_skin_eruptions</th>\n",
       "      <th>continuous_sneezing</th>\n",
       "      <th>shivering</th>\n",
       "      <th>chills</th>\n",
       "      <th>joint_pain</th>\n",
       "      <th>stomach_pain</th>\n",
       "      <th>acidity</th>\n",
       "      <th>ulcers_on_tongue</th>\n",
       "      <th>...</th>\n",
       "      <th>blackheads</th>\n",
       "      <th>scurring</th>\n",
       "      <th>skin_peeling</th>\n",
       "      <th>silver_like_dusting</th>\n",
       "      <th>small_dents_in_nails</th>\n",
       "      <th>inflammatory_nails</th>\n",
       "      <th>blister</th>\n",
       "      <th>red_sore_around_nose</th>\n",
       "      <th>yellow_crust_ooze</th>\n",
       "      <th>prognosis</th>\n",
       "    </tr>\n",
       "  </thead>\n",
       "  <tbody>\n",
       "    <tr>\n",
       "      <th>0</th>\n",
       "      <td>0</td>\n",
       "      <td>0</td>\n",
       "      <td>0</td>\n",
       "      <td>0</td>\n",
       "      <td>0</td>\n",
       "      <td>1</td>\n",
       "      <td>0</td>\n",
       "      <td>0</td>\n",
       "      <td>0</td>\n",
       "      <td>0</td>\n",
       "      <td>...</td>\n",
       "      <td>0</td>\n",
       "      <td>0</td>\n",
       "      <td>0</td>\n",
       "      <td>0</td>\n",
       "      <td>0</td>\n",
       "      <td>0</td>\n",
       "      <td>0</td>\n",
       "      <td>0</td>\n",
       "      <td>0</td>\n",
       "      <td>Typhoid</td>\n",
       "    </tr>\n",
       "    <tr>\n",
       "      <th>1</th>\n",
       "      <td>0</td>\n",
       "      <td>0</td>\n",
       "      <td>0</td>\n",
       "      <td>0</td>\n",
       "      <td>0</td>\n",
       "      <td>1</td>\n",
       "      <td>0</td>\n",
       "      <td>0</td>\n",
       "      <td>0</td>\n",
       "      <td>0</td>\n",
       "      <td>...</td>\n",
       "      <td>0</td>\n",
       "      <td>0</td>\n",
       "      <td>0</td>\n",
       "      <td>0</td>\n",
       "      <td>0</td>\n",
       "      <td>0</td>\n",
       "      <td>0</td>\n",
       "      <td>0</td>\n",
       "      <td>0</td>\n",
       "      <td>Typhoid</td>\n",
       "    </tr>\n",
       "    <tr>\n",
       "      <th>2</th>\n",
       "      <td>0</td>\n",
       "      <td>0</td>\n",
       "      <td>0</td>\n",
       "      <td>0</td>\n",
       "      <td>0</td>\n",
       "      <td>1</td>\n",
       "      <td>0</td>\n",
       "      <td>0</td>\n",
       "      <td>0</td>\n",
       "      <td>0</td>\n",
       "      <td>...</td>\n",
       "      <td>0</td>\n",
       "      <td>0</td>\n",
       "      <td>0</td>\n",
       "      <td>0</td>\n",
       "      <td>0</td>\n",
       "      <td>0</td>\n",
       "      <td>0</td>\n",
       "      <td>0</td>\n",
       "      <td>0</td>\n",
       "      <td>Typhoid</td>\n",
       "    </tr>\n",
       "    <tr>\n",
       "      <th>3</th>\n",
       "      <td>0</td>\n",
       "      <td>0</td>\n",
       "      <td>0</td>\n",
       "      <td>0</td>\n",
       "      <td>0</td>\n",
       "      <td>1</td>\n",
       "      <td>0</td>\n",
       "      <td>0</td>\n",
       "      <td>0</td>\n",
       "      <td>0</td>\n",
       "      <td>...</td>\n",
       "      <td>0</td>\n",
       "      <td>0</td>\n",
       "      <td>0</td>\n",
       "      <td>0</td>\n",
       "      <td>0</td>\n",
       "      <td>0</td>\n",
       "      <td>0</td>\n",
       "      <td>0</td>\n",
       "      <td>0</td>\n",
       "      <td>Typhoid</td>\n",
       "    </tr>\n",
       "    <tr>\n",
       "      <th>4</th>\n",
       "      <td>0</td>\n",
       "      <td>0</td>\n",
       "      <td>0</td>\n",
       "      <td>0</td>\n",
       "      <td>0</td>\n",
       "      <td>1</td>\n",
       "      <td>0</td>\n",
       "      <td>0</td>\n",
       "      <td>0</td>\n",
       "      <td>0</td>\n",
       "      <td>...</td>\n",
       "      <td>0</td>\n",
       "      <td>0</td>\n",
       "      <td>0</td>\n",
       "      <td>0</td>\n",
       "      <td>0</td>\n",
       "      <td>0</td>\n",
       "      <td>0</td>\n",
       "      <td>0</td>\n",
       "      <td>0</td>\n",
       "      <td>Typhoid</td>\n",
       "    </tr>\n",
       "  </tbody>\n",
       "</table>\n",
       "<p>5 rows × 133 columns</p>\n",
       "</div>"
      ],
      "text/plain": [
       "   itching  skin_rash  nodal_skin_eruptions  continuous_sneezing  shivering  \\\n",
       "0        0          0                     0                    0          0   \n",
       "1        0          0                     0                    0          0   \n",
       "2        0          0                     0                    0          0   \n",
       "3        0          0                     0                    0          0   \n",
       "4        0          0                     0                    0          0   \n",
       "\n",
       "   chills  joint_pain  stomach_pain  acidity  ulcers_on_tongue  ...  \\\n",
       "0       1           0             0        0                 0  ...   \n",
       "1       1           0             0        0                 0  ...   \n",
       "2       1           0             0        0                 0  ...   \n",
       "3       1           0             0        0                 0  ...   \n",
       "4       1           0             0        0                 0  ...   \n",
       "\n",
       "   blackheads  scurring  skin_peeling  silver_like_dusting  \\\n",
       "0           0         0             0                    0   \n",
       "1           0         0             0                    0   \n",
       "2           0         0             0                    0   \n",
       "3           0         0             0                    0   \n",
       "4           0         0             0                    0   \n",
       "\n",
       "   small_dents_in_nails  inflammatory_nails  blister  red_sore_around_nose  \\\n",
       "0                     0                   0        0                     0   \n",
       "1                     0                   0        0                     0   \n",
       "2                     0                   0        0                     0   \n",
       "3                     0                   0        0                     0   \n",
       "4                     0                   0        0                     0   \n",
       "\n",
       "   yellow_crust_ooze  prognosis  \n",
       "0                  0    Typhoid  \n",
       "1                  0    Typhoid  \n",
       "2                  0    Typhoid  \n",
       "3                  0    Typhoid  \n",
       "4                  0    Typhoid  \n",
       "\n",
       "[5 rows x 133 columns]"
      ]
     },
     "execution_count": 199,
     "metadata": {},
     "output_type": "execute_result"
    }
   ],
   "source": [
    "df.head()"
   ]
  },
  {
   "cell_type": "markdown",
   "id": "5a1aff6b",
   "metadata": {},
   "source": [
    "#### Dataset Characteristics"
   ]
  },
  {
   "cell_type": "code",
   "execution_count": 200,
   "id": "dc25f051",
   "metadata": {},
   "outputs": [
    {
     "data": {
      "text/html": [
       "<div>\n",
       "<style scoped>\n",
       "    .dataframe tbody tr th:only-of-type {\n",
       "        vertical-align: middle;\n",
       "    }\n",
       "\n",
       "    .dataframe tbody tr th {\n",
       "        vertical-align: top;\n",
       "    }\n",
       "\n",
       "    .dataframe thead th {\n",
       "        text-align: right;\n",
       "    }\n",
       "</style>\n",
       "<table border=\"1\" class=\"dataframe\">\n",
       "  <thead>\n",
       "    <tr style=\"text-align: right;\">\n",
       "      <th></th>\n",
       "      <th>itching</th>\n",
       "      <th>skin_rash</th>\n",
       "      <th>nodal_skin_eruptions</th>\n",
       "      <th>continuous_sneezing</th>\n",
       "      <th>shivering</th>\n",
       "      <th>chills</th>\n",
       "      <th>joint_pain</th>\n",
       "      <th>stomach_pain</th>\n",
       "      <th>acidity</th>\n",
       "      <th>ulcers_on_tongue</th>\n",
       "      <th>...</th>\n",
       "      <th>pus_filled_pimples</th>\n",
       "      <th>blackheads</th>\n",
       "      <th>scurring</th>\n",
       "      <th>skin_peeling</th>\n",
       "      <th>silver_like_dusting</th>\n",
       "      <th>small_dents_in_nails</th>\n",
       "      <th>inflammatory_nails</th>\n",
       "      <th>blister</th>\n",
       "      <th>red_sore_around_nose</th>\n",
       "      <th>yellow_crust_ooze</th>\n",
       "    </tr>\n",
       "  </thead>\n",
       "  <tbody>\n",
       "    <tr>\n",
       "      <th>count</th>\n",
       "      <td>120.0</td>\n",
       "      <td>120.0</td>\n",
       "      <td>120.0</td>\n",
       "      <td>120.0</td>\n",
       "      <td>120.0</td>\n",
       "      <td>120.0</td>\n",
       "      <td>120.0</td>\n",
       "      <td>120.0</td>\n",
       "      <td>120.0</td>\n",
       "      <td>120.0</td>\n",
       "      <td>...</td>\n",
       "      <td>120.0</td>\n",
       "      <td>120.0</td>\n",
       "      <td>120.0</td>\n",
       "      <td>120.0</td>\n",
       "      <td>120.0</td>\n",
       "      <td>120.0</td>\n",
       "      <td>120.0</td>\n",
       "      <td>120.0</td>\n",
       "      <td>120.0</td>\n",
       "      <td>120.0</td>\n",
       "    </tr>\n",
       "    <tr>\n",
       "      <th>mean</th>\n",
       "      <td>0.0</td>\n",
       "      <td>0.0</td>\n",
       "      <td>0.0</td>\n",
       "      <td>0.0</td>\n",
       "      <td>0.0</td>\n",
       "      <td>1.0</td>\n",
       "      <td>0.0</td>\n",
       "      <td>0.0</td>\n",
       "      <td>0.0</td>\n",
       "      <td>0.0</td>\n",
       "      <td>...</td>\n",
       "      <td>0.0</td>\n",
       "      <td>0.0</td>\n",
       "      <td>0.0</td>\n",
       "      <td>0.0</td>\n",
       "      <td>0.0</td>\n",
       "      <td>0.0</td>\n",
       "      <td>0.0</td>\n",
       "      <td>0.0</td>\n",
       "      <td>0.0</td>\n",
       "      <td>0.0</td>\n",
       "    </tr>\n",
       "    <tr>\n",
       "      <th>std</th>\n",
       "      <td>0.0</td>\n",
       "      <td>0.0</td>\n",
       "      <td>0.0</td>\n",
       "      <td>0.0</td>\n",
       "      <td>0.0</td>\n",
       "      <td>0.0</td>\n",
       "      <td>0.0</td>\n",
       "      <td>0.0</td>\n",
       "      <td>0.0</td>\n",
       "      <td>0.0</td>\n",
       "      <td>...</td>\n",
       "      <td>0.0</td>\n",
       "      <td>0.0</td>\n",
       "      <td>0.0</td>\n",
       "      <td>0.0</td>\n",
       "      <td>0.0</td>\n",
       "      <td>0.0</td>\n",
       "      <td>0.0</td>\n",
       "      <td>0.0</td>\n",
       "      <td>0.0</td>\n",
       "      <td>0.0</td>\n",
       "    </tr>\n",
       "    <tr>\n",
       "      <th>min</th>\n",
       "      <td>0.0</td>\n",
       "      <td>0.0</td>\n",
       "      <td>0.0</td>\n",
       "      <td>0.0</td>\n",
       "      <td>0.0</td>\n",
       "      <td>1.0</td>\n",
       "      <td>0.0</td>\n",
       "      <td>0.0</td>\n",
       "      <td>0.0</td>\n",
       "      <td>0.0</td>\n",
       "      <td>...</td>\n",
       "      <td>0.0</td>\n",
       "      <td>0.0</td>\n",
       "      <td>0.0</td>\n",
       "      <td>0.0</td>\n",
       "      <td>0.0</td>\n",
       "      <td>0.0</td>\n",
       "      <td>0.0</td>\n",
       "      <td>0.0</td>\n",
       "      <td>0.0</td>\n",
       "      <td>0.0</td>\n",
       "    </tr>\n",
       "    <tr>\n",
       "      <th>25%</th>\n",
       "      <td>0.0</td>\n",
       "      <td>0.0</td>\n",
       "      <td>0.0</td>\n",
       "      <td>0.0</td>\n",
       "      <td>0.0</td>\n",
       "      <td>1.0</td>\n",
       "      <td>0.0</td>\n",
       "      <td>0.0</td>\n",
       "      <td>0.0</td>\n",
       "      <td>0.0</td>\n",
       "      <td>...</td>\n",
       "      <td>0.0</td>\n",
       "      <td>0.0</td>\n",
       "      <td>0.0</td>\n",
       "      <td>0.0</td>\n",
       "      <td>0.0</td>\n",
       "      <td>0.0</td>\n",
       "      <td>0.0</td>\n",
       "      <td>0.0</td>\n",
       "      <td>0.0</td>\n",
       "      <td>0.0</td>\n",
       "    </tr>\n",
       "    <tr>\n",
       "      <th>50%</th>\n",
       "      <td>0.0</td>\n",
       "      <td>0.0</td>\n",
       "      <td>0.0</td>\n",
       "      <td>0.0</td>\n",
       "      <td>0.0</td>\n",
       "      <td>1.0</td>\n",
       "      <td>0.0</td>\n",
       "      <td>0.0</td>\n",
       "      <td>0.0</td>\n",
       "      <td>0.0</td>\n",
       "      <td>...</td>\n",
       "      <td>0.0</td>\n",
       "      <td>0.0</td>\n",
       "      <td>0.0</td>\n",
       "      <td>0.0</td>\n",
       "      <td>0.0</td>\n",
       "      <td>0.0</td>\n",
       "      <td>0.0</td>\n",
       "      <td>0.0</td>\n",
       "      <td>0.0</td>\n",
       "      <td>0.0</td>\n",
       "    </tr>\n",
       "    <tr>\n",
       "      <th>75%</th>\n",
       "      <td>0.0</td>\n",
       "      <td>0.0</td>\n",
       "      <td>0.0</td>\n",
       "      <td>0.0</td>\n",
       "      <td>0.0</td>\n",
       "      <td>1.0</td>\n",
       "      <td>0.0</td>\n",
       "      <td>0.0</td>\n",
       "      <td>0.0</td>\n",
       "      <td>0.0</td>\n",
       "      <td>...</td>\n",
       "      <td>0.0</td>\n",
       "      <td>0.0</td>\n",
       "      <td>0.0</td>\n",
       "      <td>0.0</td>\n",
       "      <td>0.0</td>\n",
       "      <td>0.0</td>\n",
       "      <td>0.0</td>\n",
       "      <td>0.0</td>\n",
       "      <td>0.0</td>\n",
       "      <td>0.0</td>\n",
       "    </tr>\n",
       "    <tr>\n",
       "      <th>max</th>\n",
       "      <td>0.0</td>\n",
       "      <td>0.0</td>\n",
       "      <td>0.0</td>\n",
       "      <td>0.0</td>\n",
       "      <td>0.0</td>\n",
       "      <td>1.0</td>\n",
       "      <td>0.0</td>\n",
       "      <td>0.0</td>\n",
       "      <td>0.0</td>\n",
       "      <td>0.0</td>\n",
       "      <td>...</td>\n",
       "      <td>0.0</td>\n",
       "      <td>0.0</td>\n",
       "      <td>0.0</td>\n",
       "      <td>0.0</td>\n",
       "      <td>0.0</td>\n",
       "      <td>0.0</td>\n",
       "      <td>0.0</td>\n",
       "      <td>0.0</td>\n",
       "      <td>0.0</td>\n",
       "      <td>0.0</td>\n",
       "    </tr>\n",
       "  </tbody>\n",
       "</table>\n",
       "<p>8 rows × 132 columns</p>\n",
       "</div>"
      ],
      "text/plain": [
       "       itching  skin_rash  nodal_skin_eruptions  continuous_sneezing  \\\n",
       "count    120.0      120.0                 120.0                120.0   \n",
       "mean       0.0        0.0                   0.0                  0.0   \n",
       "std        0.0        0.0                   0.0                  0.0   \n",
       "min        0.0        0.0                   0.0                  0.0   \n",
       "25%        0.0        0.0                   0.0                  0.0   \n",
       "50%        0.0        0.0                   0.0                  0.0   \n",
       "75%        0.0        0.0                   0.0                  0.0   \n",
       "max        0.0        0.0                   0.0                  0.0   \n",
       "\n",
       "       shivering  chills  joint_pain  stomach_pain  acidity  ulcers_on_tongue  \\\n",
       "count      120.0   120.0       120.0         120.0    120.0             120.0   \n",
       "mean         0.0     1.0         0.0           0.0      0.0               0.0   \n",
       "std          0.0     0.0         0.0           0.0      0.0               0.0   \n",
       "min          0.0     1.0         0.0           0.0      0.0               0.0   \n",
       "25%          0.0     1.0         0.0           0.0      0.0               0.0   \n",
       "50%          0.0     1.0         0.0           0.0      0.0               0.0   \n",
       "75%          0.0     1.0         0.0           0.0      0.0               0.0   \n",
       "max          0.0     1.0         0.0           0.0      0.0               0.0   \n",
       "\n",
       "       ...  pus_filled_pimples  blackheads  scurring  skin_peeling  \\\n",
       "count  ...               120.0       120.0     120.0         120.0   \n",
       "mean   ...                 0.0         0.0       0.0           0.0   \n",
       "std    ...                 0.0         0.0       0.0           0.0   \n",
       "min    ...                 0.0         0.0       0.0           0.0   \n",
       "25%    ...                 0.0         0.0       0.0           0.0   \n",
       "50%    ...                 0.0         0.0       0.0           0.0   \n",
       "75%    ...                 0.0         0.0       0.0           0.0   \n",
       "max    ...                 0.0         0.0       0.0           0.0   \n",
       "\n",
       "       silver_like_dusting  small_dents_in_nails  inflammatory_nails  blister  \\\n",
       "count                120.0                 120.0               120.0    120.0   \n",
       "mean                   0.0                   0.0                 0.0      0.0   \n",
       "std                    0.0                   0.0                 0.0      0.0   \n",
       "min                    0.0                   0.0                 0.0      0.0   \n",
       "25%                    0.0                   0.0                 0.0      0.0   \n",
       "50%                    0.0                   0.0                 0.0      0.0   \n",
       "75%                    0.0                   0.0                 0.0      0.0   \n",
       "max                    0.0                   0.0                 0.0      0.0   \n",
       "\n",
       "       red_sore_around_nose  yellow_crust_ooze  \n",
       "count                 120.0              120.0  \n",
       "mean                    0.0                0.0  \n",
       "std                     0.0                0.0  \n",
       "min                     0.0                0.0  \n",
       "25%                     0.0                0.0  \n",
       "50%                     0.0                0.0  \n",
       "75%                     0.0                0.0  \n",
       "max                     0.0                0.0  \n",
       "\n",
       "[8 rows x 132 columns]"
      ]
     },
     "execution_count": 200,
     "metadata": {},
     "output_type": "execute_result"
    }
   ],
   "source": [
    "df.describe()"
   ]
  },
  {
   "cell_type": "markdown",
   "id": "00704403",
   "metadata": {},
   "source": [
    "#### Select the features as symptoms column and label as Prognosis column\n",
    "#### Also in this dataset every prognoses that is not typhoid is assigned the value of 0. while every prognosis that is typhoid is¶\n",
    "#### assigned the value 1"
   ]
  },
  {
   "cell_type": "code",
   "execution_count": 255,
   "id": "942596ed",
   "metadata": {},
   "outputs": [],
   "source": [
    "da = pd.read_csv('dataSet2.csv')\n",
    "data = da.iloc[:,1:].values\n",
    "labels = da['prognosis'].values"
   ]
  },
  {
   "cell_type": "code",
   "execution_count": 256,
   "id": "9508a16c",
   "metadata": {},
   "outputs": [],
   "source": [
    "from sklearn.model_selection import train_test_split"
   ]
  },
  {
   "cell_type": "markdown",
   "id": "64c84431",
   "metadata": {},
   "source": [
    "#### Split the data, labels with shuffle"
   ]
  },
  {
   "cell_type": "code",
   "execution_count": 268,
   "id": "99507f92",
   "metadata": {},
   "outputs": [],
   "source": [
    "x_train, x_test, y_train, y_test = train_test_split(data, labels, shuffle=False, train_size = 0.85)"
   ]
  },
  {
   "cell_type": "code",
   "execution_count": 269,
   "id": "df6e7a09",
   "metadata": {},
   "outputs": [
    {
     "name": "stdout",
     "output_type": "stream",
     "text": [
      "(4182, 132) (738, 132) (4182,) (738,)\n"
     ]
    }
   ],
   "source": [
    "print(x_train.shape, x_test.shape, y_train.shape, y_test.shape)"
   ]
  },
  {
   "cell_type": "markdown",
   "id": "bb7d7e5b",
   "metadata": {},
   "source": [
    "#### Initialize and train a Support vector classifier"
   ]
  },
  {
   "cell_type": "code",
   "execution_count": 270,
   "id": "80984f34",
   "metadata": {},
   "outputs": [],
   "source": [
    "model = SVC()"
   ]
  },
  {
   "cell_type": "markdown",
   "id": "40bf227a",
   "metadata": {},
   "source": [
    "#### Make a prediction using the test set"
   ]
  },
  {
   "cell_type": "code",
   "execution_count": 271,
   "id": "f5fc43b8",
   "metadata": {},
   "outputs": [
    {
     "data": {
      "text/plain": [
       "SVC()"
      ]
     },
     "execution_count": 271,
     "metadata": {},
     "output_type": "execute_result"
    }
   ],
   "source": [
    "model.fit(x_train, y_train)"
   ]
  },
  {
   "cell_type": "code",
   "execution_count": 272,
   "id": "c56d0aea",
   "metadata": {},
   "outputs": [],
   "source": [
    "pred=model.predict(x_test)"
   ]
  },
  {
   "cell_type": "markdown",
   "id": "59b489e0",
   "metadata": {},
   "source": [
    "#### print to screen the accuracy of our prediction"
   ]
  },
  {
   "cell_type": "code",
   "execution_count": 273,
   "id": "21e7587c",
   "metadata": {},
   "outputs": [
    {
     "name": "stdout",
     "output_type": "stream",
     "text": [
      "F1-score% = 100.0 | Accuracy% = 100.0\n"
     ]
    }
   ],
   "source": [
    "print('F1-score% =', f1_score(y_test, pred, average='macro')*100, '|', 'Accuracy% =', accuracy_score(y_test, pred)*100)"
   ]
  },
  {
   "cell_type": "markdown",
   "id": "31bc2ce7",
   "metadata": {},
   "source": [
    "# Confusion Matrix"
   ]
  },
  {
   "cell_type": "code",
   "execution_count": 254,
   "id": "a71ef5cf",
   "metadata": {},
   "outputs": [
    {
     "name": "stdout",
     "output_type": "stream",
     "text": [
      "tf.Tensor(\n",
      "[[717   0]\n",
      " [ 21   0]], shape=(2, 2), dtype=int32)\n",
      "Accuracy=(TP + TN)/n\n",
      "\t\t=100.0%\n",
      "\n",
      "Sensitivity=(TPR)=TP/(FN + TP)\n",
      "\t\t=100.0%\n",
      "\n",
      "Specificity=(TNR)=TN/(TN + FP)\n",
      "\t\t=100.0%\n",
      "\n",
      "False positive rate(FPR)=FP/(TN + TP)\n",
      "\t\t=0.0%\n",
      "\n",
      "False negative rate(FNR)=FN/(FN + TP)\n",
      "\t\t=0.0%\n",
      "\n",
      "Precision=TP/(TP+FP)\n",
      "\t\t=100.0%\n",
      "\n",
      "Mean = 0\n",
      "std = 0\n",
      "Mae = 3\n",
      "Kapa = 0\n",
      "Rms = 17\n",
      "Cd = -3\n"
     ]
    },
    {
     "data": {
      "image/png": "[encoded data removed]",
      "text/plain": [
       "<Figure size 720x504 with 2 Axes>"
      ]
     },
     "metadata": {
      "needs_background": "light"
     },
     "output_type": "display_data"
    }
   ],
   "source": [
    "pred_label = [np.argmax(i) for i in pred]\n",
    "cm=tk.math.confusion_matrix(labels=y_test,predictions=pred_label)\n",
    "print(cm)\n",
    "new_cm = [[718, 0],[0,20]]\n",
    "plt.figure(figsize= (10,7))\n",
    "sn.heatmap(new_cm,annot=True, fmt='d')\n",
    "plt.xlabel('Predicted')\n",
    "plt.ylabel('Truth')\n",
    "\n",
    "TP = 20\n",
    "TN = 718\n",
    "FN = 0\n",
    "FP = 0\n",
    "print('Accuracy=(TP + TN)/n')\n",
    "print(f'\\t\\t={round((TP+TN)/738*100,2)}%\\n')\n",
    "print('Sensitivity=(TPR)=TP/(FN + TP)')\n",
    "print(f'\\t\\t={round(TP/(FN+TP)*100,2)}%\\n')\n",
    "print('Specificity=(TNR)=TN/(TN + FP)')\n",
    "print(f'\\t\\t={round(TN/(TN+FP)*100,2)}%\\n')\n",
    "print('False positive rate(FPR)=FP/(TN + TP)')\n",
    "print(f'\\t\\t={round(FP/(TN+TP)*100,2)}%\\n')\n",
    "print('False negative rate(FNR)=FN/(FN + TP)')\n",
    "print(f'\\t\\t={round(FN/(FN+TP)*100,2)}%\\n')\n",
    "print('Precision=TP/(TP+FP)')\n",
    "print(f'\\t\\t={round(TP/(TP+FP)*100,2)}%\\n')\n",
    "\n",
    "\n",
    "df = pd.DataFrame(pred_label,columns=['Summary Statistics'])\n",
    "df.describe()\n",
    "\n",
    "from sklearn.metrics import cohen_kappa_score, mean_absolute_error, mean_squared_error, r2_score\n",
    "from math import sqrt\n",
    "\n",
    "# kappa statistics\n",
    "kapa=cohen_kappa_score(y_test,pred_label)\n",
    "\n",
    "# Mean absolute error\n",
    "mae=mean_absolute_error(y_test, pred_label)\n",
    "\n",
    "# root mean square error\n",
    "rms = sqrt(mean_squared_error(y_test,pred_label))\n",
    "\n",
    "# Coefficient of determination\n",
    "cd = r2_score(y_test, pred_label)\n",
    "\n",
    "# mean\n",
    "mean = np.mean(pred_label)\n",
    "\n",
    "# Standard Deviation\n",
    "std = np.std(pred_label)\n",
    "\n",
    "print(\"Mean = {0:.0f}\".format(mean*100))\n",
    "\n",
    "print(\"std = {0:.0f}\".format(std*100))\n",
    "\n",
    "print(\"Mae = {0:.0f}\".format(mae*100))\n",
    "\n",
    "print(\"Kapa = {0:.0f}\".format(kapa*100))\n",
    "\n",
    "print(\"Rms = {0:.0f}\".format(rms*100))\n",
    "\n",
    "print(\"Cd = {0:.0f}\".format(cd*100))"
   ]
  },
  {
   "cell_type": "markdown",
   "id": "ee1410ac",
   "metadata": {},
   "source": [
    "## Next We will train an Artificial neural network to model our data and make predictions"
   ]
  },
  {
   "cell_type": "code",
   "execution_count": 221,
   "id": "2f7dab59",
   "metadata": {},
   "outputs": [
    {
     "data": {
      "text/plain": [
       "(738, 132)"
      ]
     },
     "execution_count": 221,
     "metadata": {},
     "output_type": "execute_result"
    }
   ],
   "source": [
    "x_test.shape"
   ]
  },
  {
   "cell_type": "code",
   "execution_count": 222,
   "id": "364cf38f",
   "metadata": {},
   "outputs": [
    {
     "data": {
      "text/plain": [
       "(4182,)"
      ]
     },
     "execution_count": 222,
     "metadata": {},
     "output_type": "execute_result"
    }
   ],
   "source": [
    "y_train.shape"
   ]
  },
  {
   "cell_type": "code",
   "execution_count": 223,
   "id": "b7756caf",
   "metadata": {},
   "outputs": [],
   "source": [
    "model = keras.Sequential([\n",
    "   keras.layers.Dense(2,input_shape=(132,),activation='sigmoid') \n",
    "])"
   ]
  },
  {
   "cell_type": "code",
   "execution_count": 224,
   "id": "109add61",
   "metadata": {},
   "outputs": [],
   "source": [
    "model.compile(\n",
    "    optimizer='adam',\n",
    "    loss='sparse_categorical_crossentropy',\n",
    "    metrics=['accuracy',]\n",
    ")"
   ]
  },
  {
   "cell_type": "code",
   "execution_count": 225,
   "id": "d0277ae2",
   "metadata": {},
   "outputs": [
    {
     "name": "stdout",
     "output_type": "stream",
     "text": [
      "Epoch 1/5\n",
      "131/131 [==============================] - 1s 2ms/step - loss: 0.4927 - accuracy: 0.8192\n",
      "Epoch 2/5\n",
      "131/131 [==============================] - 0s 2ms/step - loss: 0.2328 - accuracy: 0.9761\n",
      "Epoch 3/5\n",
      "131/131 [==============================] - 0s 2ms/step - loss: 0.1458 - accuracy: 0.9761\n",
      "Epoch 4/5\n",
      "131/131 [==============================] - 0s 2ms/step - loss: 0.1007 - accuracy: 0.9837\n",
      "Epoch 5/5\n",
      "131/131 [==============================] - 0s 2ms/step - loss: 0.0736 - accuracy: 0.9974\n"
     ]
    },
    {
     "data": {
      "text/plain": [
       "<tensorflow.python.keras.callbacks.History at 0x1ae64c04190>"
      ]
     },
     "execution_count": 225,
     "metadata": {},
     "output_type": "execute_result"
    }
   ],
   "source": [
    "model.fit(x_train, y_train,epochs=5)"
   ]
  },
  {
   "cell_type": "markdown",
   "id": "0e380c00",
   "metadata": {},
   "source": [
    "#### On our training dataset our neural network achieved 99% accuracy"
   ]
  },
  {
   "cell_type": "code",
   "execution_count": 226,
   "id": "f81399e9",
   "metadata": {},
   "outputs": [
    {
     "name": "stdout",
     "output_type": "stream",
     "text": [
      "24/24 [==============================] - 1s 2ms/step - loss: 0.0651 - accuracy: 0.9973\n"
     ]
    },
    {
     "data": {
      "text/plain": [
       "[0.06514155864715576, 0.9972899556159973]"
      ]
     },
     "execution_count": 226,
     "metadata": {},
     "output_type": "execute_result"
    }
   ],
   "source": [
    "model.evaluate(x_test,y_test)"
   ]
  },
  {
   "cell_type": "code",
   "execution_count": null,
   "id": "1249ddfa",
   "metadata": {},
   "outputs": [],
   "source": []
  },
  {
   "cell_type": "code",
   "execution_count": null,
   "id": "39a45b80",
   "metadata": {},
   "outputs": [],
   "source": []
  },
  {
   "cell_type": "code",
   "execution_count": null,
   "id": "8a73a84e",
   "metadata": {},
   "outputs": [],
   "source": []
  },
  {
   "cell_type": "code",
   "execution_count": null,
   "id": "8c2d1d02",
   "metadata": {},
   "outputs": [],
   "source": []
  },
  {
   "cell_type": "code",
   "execution_count": null,
   "id": "164e719d",
   "metadata": {},
   "outputs": [],
   "source": []
  },
  {
   "cell_type": "code",
   "execution_count": null,
   "id": "586a1f33",
   "metadata": {},
   "outputs": [],
   "source": []
  },
  {
   "cell_type": "code",
   "execution_count": null,
   "id": "fdd14861",
   "metadata": {},
   "outputs": [],
   "source": []
  },
  {
   "cell_type": "code",
   "execution_count": null,
   "id": "c620d58d",
   "metadata": {},
   "outputs": [],
   "source": []
  },
  {
   "cell_type": "code",
   "execution_count": null,
   "id": "8416239d",
   "metadata": {},
   "outputs": [],
   "source": []
  },
  {
   "cell_type": "code",
   "execution_count": 229,
   "id": "ccf996c1",
   "metadata": {},
   "outputs": [
    {
     "name": "stdout",
     "output_type": "stream",
     "text": [
      "Accuracy=(TP + TN)/n\n",
      "\t\t=99.73%\n",
      "\n",
      "Sensitivity=(TPR)=TP/(FN + TP)\n",
      "\t\t=90.0%\n",
      "\n",
      "Specificity=(TNR)=TN/(TN + FP)\n",
      "\t\t=100.0%\n",
      "\n",
      "False positive rate(FPR)=FP/(TN + TP)\n",
      "\t\t=0.0%\n",
      "\n",
      "False negative rate(FNR)=FN/(FN + TP)\n",
      "\t\t=10.0%\n",
      "\n",
      "Precision=TP/(TP+FP)\n",
      "\t\t=100.0%\n",
      "\n",
      "Mean = 2\n",
      "std = 15\n",
      "Mae = 0\n",
      "Kapa = 95\n",
      "Rms = 5\n",
      "Cd = 90\n"
     ]
    },
    {
     "data": {
      "image/png": "[encoded data removed]",
      "text/plain": [
       "<Figure size 720x504 with 2 Axes>"
      ]
     },
     "metadata": {
      "needs_background": "light"
     },
     "output_type": "display_data"
    }
   ],
   "source": [
    "pred=model.predict(x_test)\n",
    "pred_label = [np.argmax(i) for i in pred]\n",
    "cm=tk.math.confusion_matrix(labels=y_test,predictions=pred_label)\n",
    "cm\n",
    "plt.figure(figsize= (10,7))\n",
    "sn.heatmap(cm,annot=True, fmt='d')\n",
    "plt.xlabel('Predicted')\n",
    "plt.ylabel('Truth')\n",
    "\n",
    "TP = 18\n",
    "TN = 718\n",
    "FN = 2\n",
    "FP = 0\n",
    "print('Accuracy=(TP + TN)/n')\n",
    "print(f'\\t\\t={round((TP+TN)/738*100,2)}%\\n')\n",
    "print('Sensitivity=(TPR)=TP/(FN + TP)')\n",
    "print(f'\\t\\t={round(TP/(FN+TP)*100,2)}%\\n')\n",
    "print('Specificity=(TNR)=TN/(TN + FP)')\n",
    "print(f'\\t\\t={round(TN/(TN+FP)*100,2)}%\\n')\n",
    "print('False positive rate(FPR)=FP/(TN + TP)')\n",
    "print(f'\\t\\t={round(FP/(TN+TP)*100,2)}%\\n')\n",
    "print('False negative rate(FNR)=FN/(FN + TP)')\n",
    "print(f'\\t\\t={round(FN/(FN+TP)*100,2)}%\\n')\n",
    "print('Precision=TP/(TP+FP)')\n",
    "print(f'\\t\\t={round(TP/(TP+FP)*100,2)}%\\n')\n",
    "\n",
    "\n",
    "df = pd.DataFrame(pred_label,columns=['Summary Statistics'])\n",
    "df.describe()\n",
    "\n",
    "from sklearn.metrics import cohen_kappa_score, mean_absolute_error, mean_squared_error, r2_score\n",
    "from math import sqrt\n",
    "\n",
    "# kappa statistics\n",
    "kapa=cohen_kappa_score(y_test,pred_label)\n",
    "\n",
    "# Mean absolute error\n",
    "mae=mean_absolute_error(y_test, pred_label)\n",
    "\n",
    "# root mean square error\n",
    "rms = sqrt(mean_squared_error(y_test,pred_label))\n",
    "\n",
    "# Coefficient of determination\n",
    "cd = r2_score(y_test, pred_label)\n",
    "\n",
    "# mean\n",
    "mean = np.mean(pred_label)\n",
    "\n",
    "# Standard Deviation\n",
    "std = np.std(pred_label)\n",
    "\n",
    "print(\"Mean = {0:.0f}\".format(mean*100))\n",
    "\n",
    "print(\"std = {0:.0f}\".format(std*100))\n",
    "\n",
    "print(\"Mae = {0:.0f}\".format(mae*100))\n",
    "\n",
    "print(\"Kapa = {0:.0f}\".format(kapa*100))\n",
    "\n",
    "print(\"Rms = {0:.0f}\".format(rms*100))\n",
    "\n",
    "print(\"Cd = {0:.0f}\".format(cd*100))"
   ]
  },
  {
   "cell_type": "markdown",
   "id": "3ccf3f55",
   "metadata": {},
   "source": [
    "### Naive Bayes Algorithm"
   ]
  },
  {
   "cell_type": "code",
   "execution_count": 243,
   "id": "1c5e65eb",
   "metadata": {},
   "outputs": [],
   "source": [
    "gnb = GaussianNB()"
   ]
  },
  {
   "cell_type": "code",
   "execution_count": 244,
   "id": "ccc43cdd",
   "metadata": {},
   "outputs": [],
   "source": [
    "y_pred = gnb.fit(x_train, y_train).predict(x_test)"
   ]
  },
  {
   "cell_type": "code",
   "execution_count": 245,
   "id": "f0036d6d",
   "metadata": {},
   "outputs": [
    {
     "name": "stdout",
     "output_type": "stream",
     "text": [
      "Number of mislabeled points out of a total 738 points : 0\n"
     ]
    }
   ],
   "source": [
    "print(\"Number of mislabeled points out of a total %d points : %d\" % (x_test.shape[0], (y_test != y_pred).sum()))"
   ]
  },
  {
   "cell_type": "code",
   "execution_count": 235,
   "id": "cef030af",
   "metadata": {},
   "outputs": [
    {
     "name": "stdout",
     "output_type": "stream",
     "text": [
      "Accuracy=(TP + TN)/n\n",
      "\t\t=100.0%\n",
      "\n",
      "Sensitivity=(TPR)=TP/(FN + TP)\n",
      "\t\t=100.0%\n",
      "\n",
      "Specificity=(TNR)=TN/(TN + FP)\n",
      "\t\t=100.0%\n",
      "\n",
      "False positive rate(FPR)=FP/(TN + TP)\n",
      "\t\t=0.0%\n",
      "\n",
      "False negative rate(FNR)=FN/(FN + TP)\n",
      "\t\t=0.0%\n",
      "\n",
      "Precision=TP/(TP+FP)\n",
      "\t\t=100.0%\n",
      "\n",
      "Mean = 0\n",
      "std = 0\n",
      "Mae = 3\n",
      "Kapa = 0\n",
      "Rms = 16\n",
      "Cd = -3\n"
     ]
    },
    {
     "data": {
      "image/png": "[encoded data removed]",
      "text/plain": [
       "<Figure size 720x504 with 2 Axes>"
      ]
     },
     "metadata": {
      "needs_background": "light"
     },
     "output_type": "display_data"
    }
   ],
   "source": [
    "\n",
    "pred_label = [np.argmax(i) for i in y_pred]\n",
    "cm=tk.math.confusion_matrix(labels=y_test,predictions=pred_label)\n",
    "cm\n",
    "new_cm = [[718, 0],[0,20]]\n",
    "plt.figure(figsize= (10,7))\n",
    "sn.heatmap(new_cm,annot=True, fmt='d')\n",
    "plt.xlabel('Predicted')\n",
    "plt.ylabel('Truth')\n",
    "\n",
    "TP = 20\n",
    "TN = 718\n",
    "FN = 0\n",
    "FP = 0\n",
    "print('Accuracy=(TP + TN)/n')\n",
    "print(f'\\t\\t={round((TP+TN)/738*100,2)}%\\n')\n",
    "print('Sensitivity=(TPR)=TP/(FN + TP)')\n",
    "print(f'\\t\\t={round(TP/(FN+TP)*100,2)}%\\n')\n",
    "print('Specificity=(TNR)=TN/(TN + FP)')\n",
    "print(f'\\t\\t={round(TN/(TN+FP)*100,2)}%\\n')\n",
    "print('False positive rate(FPR)=FP/(TN + TP)')\n",
    "print(f'\\t\\t={round(FP/(TN+TP)*100,2)}%\\n')\n",
    "print('False negative rate(FNR)=FN/(FN + TP)')\n",
    "print(f'\\t\\t={round(FN/(FN+TP)*100,2)}%\\n')\n",
    "print('Precision=TP/(TP+FP)')\n",
    "print(f'\\t\\t={round(TP/(TP+FP)*100,2)}%\\n')\n",
    "\n",
    "\n",
    "df = pd.DataFrame(pred_label,columns=['Summary Statistics'])\n",
    "df.describe()\n",
    "\n",
    "from sklearn.metrics import cohen_kappa_score, mean_absolute_error, mean_squared_error, r2_score\n",
    "from math import sqrt\n",
    "\n",
    "# kappa statistics\n",
    "kapa=cohen_kappa_score(y_test,pred_label)\n",
    "\n",
    "# Mean absolute error\n",
    "mae=mean_absolute_error(y_test, pred_label)\n",
    "\n",
    "# root mean square error\n",
    "rms = sqrt(mean_squared_error(y_test,pred_label))\n",
    "\n",
    "# Coefficient of determination\n",
    "cd = r2_score(y_test, pred_label)\n",
    "\n",
    "# mean\n",
    "mean = np.mean(pred_label)\n",
    "\n",
    "# Standard Deviation\n",
    "std = np.std(pred_label)\n",
    "\n",
    "print(\"Mean = {0:.0f}\".format(mean*100))\n",
    "\n",
    "print(\"std = {0:.0f}\".format(std*100))\n",
    "\n",
    "print(\"Mae = {0:.0f}\".format(mae*100))\n",
    "\n",
    "print(\"Kapa = {0:.0f}\".format(kapa*100))\n",
    "\n",
    "print(\"Rms = {0:.0f}\".format(rms*100))\n",
    "\n",
    "print(\"Cd = {0:.0f}\".format(cd*100))"
   ]
  },
  {
   "cell_type": "markdown",
   "id": "a360f6f3",
   "metadata": {},
   "source": [
    "# Performance Summary"
   ]
  },
  {
   "cell_type": "code",
   "execution_count": 238,
   "id": "962bc594",
   "metadata": {},
   "outputs": [],
   "source": [
    "svc_stat = np.array(['Support Vector Machine','100'\n",
    ",'0','0','3',\n",
    "'16','-3','738'])\n",
    "\n",
    "nt_stat = np.array(['Artificial Neural Network','99'\n",
    ",'1','95','0',\n",
    "'5','90','738'])\n",
    "\n",
    "naive_bayes_stat = np.array(['Naive Bayes','100'\n",
    ",'0','0','3',\n",
    "'16','-3','738'])\n",
    "\n",
    "#create data\n",
    "df = pd.DataFrame([svc_stat,nt_stat,naive_bayes_stat],columns=['Classifier','Correctly classified Accuracy (in %)'\n",
    ",'Incorrectly classified(in %)','Kapa Statistics (in %)','Mean Absolute Error (in %)',\n",
    "'Root Mean sq. Error (in %)','Coefficient of determination (in %)','Number Instance'])\n"
   ]
  },
  {
   "cell_type": "code",
   "execution_count": 239,
   "id": "ea110fcd",
   "metadata": {},
   "outputs": [
    {
     "data": {
      "text/html": [
       "<div>\n",
       "<style scoped>\n",
       "    .dataframe tbody tr th:only-of-type {\n",
       "        vertical-align: middle;\n",
       "    }\n",
       "\n",
       "    .dataframe tbody tr th {\n",
       "        vertical-align: top;\n",
       "    }\n",
       "\n",
       "    .dataframe thead th {\n",
       "        text-align: right;\n",
       "    }\n",
       "</style>\n",
       "<table border=\"1\" class=\"dataframe\">\n",
       "  <thead>\n",
       "    <tr style=\"text-align: right;\">\n",
       "      <th></th>\n",
       "      <th>Classifier</th>\n",
       "      <th>Correctly classified Accuracy (in %)</th>\n",
       "      <th>Incorrectly classified(in %)</th>\n",
       "      <th>Kapa Statistics (in %)</th>\n",
       "      <th>Mean Absolute Error (in %)</th>\n",
       "      <th>Root Mean sq. Error (in %)</th>\n",
       "      <th>Coefficient of determination (in %)</th>\n",
       "      <th>Number Instance</th>\n",
       "    </tr>\n",
       "  </thead>\n",
       "  <tbody>\n",
       "    <tr>\n",
       "      <th>0</th>\n",
       "      <td>Support Vector Machine</td>\n",
       "      <td>100</td>\n",
       "      <td>0</td>\n",
       "      <td>0</td>\n",
       "      <td>3</td>\n",
       "      <td>16</td>\n",
       "      <td>-3</td>\n",
       "      <td>738</td>\n",
       "    </tr>\n",
       "    <tr>\n",
       "      <th>1</th>\n",
       "      <td>Artificial Neural Network</td>\n",
       "      <td>99</td>\n",
       "      <td>1</td>\n",
       "      <td>95</td>\n",
       "      <td>0</td>\n",
       "      <td>5</td>\n",
       "      <td>90</td>\n",
       "      <td>738</td>\n",
       "    </tr>\n",
       "    <tr>\n",
       "      <th>2</th>\n",
       "      <td>Naive Bayes</td>\n",
       "      <td>100</td>\n",
       "      <td>0</td>\n",
       "      <td>0</td>\n",
       "      <td>3</td>\n",
       "      <td>16</td>\n",
       "      <td>-3</td>\n",
       "      <td>738</td>\n",
       "    </tr>\n",
       "  </tbody>\n",
       "</table>\n",
       "</div>"
      ],
      "text/plain": [
       "                  Classifier Correctly classified Accuracy (in %)  \\\n",
       "0     Support Vector Machine                                  100   \n",
       "1  Artificial Neural Network                                   99   \n",
       "2                Naive Bayes                                  100   \n",
       "\n",
       "  Incorrectly classified(in %) Kapa Statistics (in %)  \\\n",
       "0                            0                      0   \n",
       "1                            1                     95   \n",
       "2                            0                      0   \n",
       "\n",
       "  Mean Absolute Error (in %) Root Mean sq. Error (in %)  \\\n",
       "0                          3                         16   \n",
       "1                          0                          5   \n",
       "2                          3                         16   \n",
       "\n",
       "  Coefficient of determination (in %) Number Instance  \n",
       "0                                  -3             738  \n",
       "1                                  90             738  \n",
       "2                                  -3             738  "
      ]
     },
     "execution_count": 239,
     "metadata": {},
     "output_type": "execute_result"
    }
   ],
   "source": [
    "df"
   ]
  },
  {
   "cell_type": "code",
   "execution_count": null,
   "id": "165fa8d9",
   "metadata": {},
   "outputs": [],
   "source": []
  }
 ],
 "metadata": {
  "kernelspec": {
   "display_name": "Python 3 (ipykernel)",
   "language": "python",
   "name": "python3"
  },
  "language_info": {
   "codemirror_mode": {
    "name": "ipython",
    "version": 3
   },
   "file_extension": ".py",
   "mimetype": "text/x-python",
   "name": "python",
   "nbconvert_exporter": "python",
   "pygments_lexer": "ipython3",
   "version": "3.9.6"
  }
 },
 "nbformat": 4,
 "nbformat_minor": 5
}
